{
 "cells": [
  {
   "cell_type": "code",
   "execution_count": 1,
   "id": "92796db4",
   "metadata": {},
   "outputs": [],
   "source": [
    "from selenium import webdriver\n",
    "from time import sleep\n",
    "import os\n",
    "import re"
   ]
  },
  {
   "cell_type": "markdown",
   "id": "09ac31f2",
   "metadata": {},
   "source": [
    "### Funtion to get the `info`"
   ]
  },
  {
   "cell_type": "code",
   "execution_count": 6,
   "id": "2e13dace",
   "metadata": {},
   "outputs": [],
   "source": [
    "def get_info_zara(search_item):\n",
    "    driver = webdriver.Chrome(\"./chromedriver\")\n",
    "    driver.get(\"https://www.zara.com/es/es/search\")\n",
    "    sleep(5)\n",
    "    try:\n",
    "        driver.find_element_by_xpath('//*[@id=\"onetrust-accept-btn-handler\"]').click()\n",
    "         \n",
    "    except: pass\n",
    "    \n",
    "    sleep(2)\n",
    "    driver.find_element_by_css_selector('#search-products-form-combo-input').click()\n",
    "    driver.find_element_by_class_name(\"search-products-form__input\").send_keys(f\"{search_item}\")\n",
    "    sleep(5)\n",
    "    url_prods = driver.find_elements_by_css_selector(\"div > section > ul > li\")\n",
    "\n",
    "    total_prod = []\n",
    "    \n",
    "    for url in url_prods:\n",
    "        \n",
    "        dic_prod = {\"url\": [] ,\"image\": [],\"product_name\": [], \"price\": []}\n",
    "    \n",
    "        dic_prod[\"url\"] = url.find_element_by_css_selector(\"div > div > a\").get_attribute(\"href\")\n",
    "    \n",
    "        dic_prod[\"image\"] = url.find_element_by_css_selector(\"div > div > div > picture > img\").get_attribute(\"src\")\n",
    "    \n",
    "        dic_prod[\"product_name\"] = url.find_element_by_css_selector(\"div > div > a > span\").text\n",
    "    \n",
    "        dic_prod[\"price\"] = url.find_element_by_class_name(\"price__amount\").text\n",
    "        total_prod.append(dic_prod)\n",
    "    return total_prod\n"
   ]
  },
  {
   "cell_type": "code",
   "execution_count": 7,
   "id": "fd5bc014",
   "metadata": {},
   "outputs": [
    {
     "data": {
      "text/plain": [
       "[{'url': 'https://www.zara.com/es/es/blusa-con-lino-lunares-p08741068.html',\n",
       "  'image': 'https://static.zara.net/photos///2021/I/0/1/p/8741/068/305/2/w/394/8741068305_1_1_1.jpg?ts=1620749867511',\n",
       "  'product_name': 'BLUSA CON LINO LUNARES',\n",
       "  'price': '22,95 EUR'},\n",
       " {'url': 'https://www.zara.com/es/es/blusa-plumeti-volantes-p07200038.html',\n",
       "  'image': 'https://static.zara.net/photos///2021/V/0/1/p/7200/038/300/2/w/394/7200038300_1_1_1.jpg?ts=1619013656817',\n",
       "  'product_name': 'BLUSA PLUMETI VOLANTES',\n",
       "  'price': '22,95 EUR'},\n",
       " {'url': 'https://www.zara.com/es/es/blusa-estampada-con-lino-p08372097.html',\n",
       "  'image': 'https://static.zara.net/photos///2021/V/0/1/p/8372/097/100/2/w/394/8372097100_1_1_1.jpg?ts=1619535436950',\n",
       "  'product_name': 'BLUSA ESTAMPADA CON LINO',\n",
       "  'price': '25,95 EUR'},\n",
       " {'url': 'https://www.zara.com/es/es/blusa-crop-tie-dye-p00085048.html',\n",
       "  'image': 'https://static.zara.net/photos///2021/V/0/1/p/0085/048/947/2/w/394/0085048947_1_1_1.jpg?ts=1615206456459',\n",
       "  'product_name': 'BLUSA CROP TIE DYE',\n",
       "  'price': '25,95 EUR'}]"
      ]
     },
     "execution_count": 7,
     "metadata": {},
     "output_type": "execute_result"
    }
   ],
   "source": [
    "get_info_zara(\"blusa amarilla\")"
   ]
  },
  {
   "cell_type": "markdown",
   "id": "cfcbb224",
   "metadata": {},
   "source": [
    "### Funtion to get the `id`"
   ]
  },
  {
   "cell_type": "code",
   "execution_count": 2,
   "id": "ee3f0011",
   "metadata": {},
   "outputs": [],
   "source": [
    "def get_id_zara(search_item):\n",
    "    driver = webdriver.Chrome(\"./chromedriver\")\n",
    "    driver.get(\"https://www.zara.com/es/es/search\")\n",
    "    sleep(5)\n",
    "    try:\n",
    "        driver.find_element_by_xpath('//*[@id=\"onetrust-accept-btn-handler\"]').click()\n",
    "         \n",
    "    except: pass\n",
    "    \n",
    "    sleep(2)\n",
    "    driver.find_element_by_css_selector('#search-products-form-combo-input').click()\n",
    "    driver.find_element_by_class_name(\"search-products-form__input\").send_keys(f\"{search_item}\")\n",
    "    sleep(5)\n",
    "    driver.find_element_by_css_selector(\"#main > article > div > div > div.search-products-view__search-results > section.product-grid > ul > li > div > div > a\").click()\n",
    "    sleep(5)\n",
    "    description = driver.find_element_by_class_name(\"expandable-text__content\").text\n",
    "    print(description)\n",
    "\n",
    "    driver.find_element_by_class_name(\"product-detail-actions__action-button\").click()\n",
    "    sleep(2)\n",
    "\n",
    "    ids_prod = driver.find_element_by_css_selector(\"#theme-modal-container > div > div > div > div > div.modal__body.modal__body--spacer-bottom > div\")\n",
    "\n",
    "    idss_prod = ids_prod.find_elements_by_css_selector(\"p\")\n",
    "    \n",
    "    id_prod = [a.text.split(\"_\")[-1] for a in idss_prod]\n",
    "\n",
    "    id_prod = [\"\".join([i for i in a if i.isnumeric()]) for a in id_prod]\n",
    "\n",
    "    return id_prod"
   ]
  },
  {
   "cell_type": "code",
   "execution_count": 4,
   "id": "cd243f54",
   "metadata": {},
   "outputs": [
    {
     "name": "stdout",
     "output_type": "stream",
     "text": [
      "\n"
     ]
    },
    {
     "data": {
      "text/plain": [
       "['3176663', '679', '']"
      ]
     },
     "execution_count": 4,
     "metadata": {},
     "output_type": "execute_result"
    }
   ],
   "source": [
    "get_id_zara(\"cazadora granate\")"
   ]
  },
  {
   "cell_type": "markdown",
   "id": "759d5caf",
   "metadata": {},
   "source": [
    "### Funtion with `id` and `info`"
   ]
  },
  {
   "cell_type": "code",
   "execution_count": 4,
   "id": "06256393",
   "metadata": {},
   "outputs": [],
   "source": [
    "def get_id_info(search_item):\n",
    "    products = get_info_zara(search_item)\n",
    "    for a,product in enumerate(products):\n",
    "        \n",
    "        product_name = product[\"product_name\"]\n",
    "        \n",
    "        name_ids = get_id_zara(product_name)\n",
    "     \n",
    "        products[a][\"id_prod\"] = name_ids\n",
    "    \n",
    "    return products"
   ]
  },
  {
   "cell_type": "code",
   "execution_count": 5,
   "id": "9c61c430",
   "metadata": {},
   "outputs": [
    {
     "name": "stdout",
     "output_type": "stream",
     "text": [
      "\n",
      "\n",
      "\n",
      "\n"
     ]
    }
   ],
   "source": [
    "id_prod = get_id_info(\"blusa amarilla\")"
   ]
  },
  {
   "cell_type": "code",
   "execution_count": 58,
   "id": "80dd26ca",
   "metadata": {},
   "outputs": [
    {
     "data": {
      "text/plain": [
       "[{'url': 'https://www.zara.com/es/es/blusa-con-lino-lunares-p08741068.html',\n",
       "  'image': 'https://static.zara.net/photos///2021/I/0/1/p/8741/068/305/2/w/394/8741068305_1_1_1.jpg?ts=1620749867511',\n",
       "  'product_name': 'BLUSA CON LINO LUNARES',\n",
       "  'price': '22,95 EUR',\n",
       "  'id_prod': ['8741068', '305', '']},\n",
       " {'url': 'https://www.zara.com/es/es/blusa-plumeti-volantes-p07200038.html',\n",
       "  'image': 'https://static.zara.net/photos///2021/V/0/1/p/7200/038/300/2/w/394/7200038300_1_1_1.jpg?ts=1619013656817',\n",
       "  'product_name': 'BLUSA PLUMETI VOLANTES',\n",
       "  'price': '22,95 EUR',\n",
       "  'id_prod': ['7200038', '300', '']},\n",
       " {'url': 'https://www.zara.com/es/es/blusa-estampada-con-lino-p08372097.html',\n",
       "  'image': 'https://static.zara.net/photos///2021/V/0/1/p/8372/097/100/2/w/394/8372097100_1_1_1.jpg?ts=1619535436950',\n",
       "  'product_name': 'BLUSA ESTAMPADA CON LINO',\n",
       "  'price': '25,95 EUR',\n",
       "  'id_prod': ['8372097', '100100', '']},\n",
       " {'url': 'https://www.zara.com/es/es/blusa-crop-tie-dye-p00085048.html',\n",
       "  'image': 'https://static.zara.net/photos///2021/V/0/1/p/0085/048/947/2/w/394/0085048947_1_1_1.jpg?ts=1615206456459',\n",
       "  'product_name': 'BLUSA CROP TIE DYE',\n",
       "  'price': '25,95 EUR',\n",
       "  'id_prod': ['0085048', '947', '']}]"
      ]
     },
     "execution_count": 58,
     "metadata": {},
     "output_type": "execute_result"
    }
   ],
   "source": [
    "id_prod"
   ]
  },
  {
   "cell_type": "code",
   "execution_count": null,
   "id": "096a96a6",
   "metadata": {},
   "outputs": [],
   "source": []
  }
 ],
 "metadata": {
  "kernelspec": {
   "display_name": "ironhack",
   "language": "python",
   "name": "ironhack"
  },
  "language_info": {
   "codemirror_mode": {
    "name": "ipython",
    "version": 3
   },
   "file_extension": ".py",
   "mimetype": "text/x-python",
   "name": "python",
   "nbconvert_exporter": "python",
   "pygments_lexer": "ipython3",
   "version": "3.8.8"
  }
 },
 "nbformat": 4,
 "nbformat_minor": 5
}
