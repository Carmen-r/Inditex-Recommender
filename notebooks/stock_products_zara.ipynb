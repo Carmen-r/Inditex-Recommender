{
 "cells": [
  {
   "cell_type": "code",
   "execution_count": 1,
   "id": "9612df65",
   "metadata": {},
   "outputs": [],
   "source": [
    "import ast\n",
    "import requests\n",
    "import pandas as pd\n",
    "import numpy as np\n",
    "import sys\n",
    "sys.path.append(\"../\")\n",
    "#scr\n",
    "from scr.infoproducts_zara import get_id_info\n",
    "from scr.stores import get_stores_zara"
   ]
  },
  {
   "cell_type": "code",
   "execution_count": 9,
   "id": "ba8c1ff3",
   "metadata": {},
   "outputs": [],
   "source": [
    "product= 7765500250\n",
    "\n",
    "store = {\n",
    "    \"physicalStoreId\":6479\n",
    "}\n",
    "\n",
    "\n",
    "stock = \"https://itxrest.inditex.com/LOMOServiciosRESTCommerce-ws/common/1/stock/campaign/V2021/product/part-number/{}\"\n",
    "headers ={\"User-Agent\":\"Mozilla/5.0 (Macintosh; Intel Mac OS X 11_2_2) AppleWebKit/537.36 (KHTML, like Gecko) Chrome/89.0.4389.114 Safari/537.36\"}\n",
    "res = requests.get(stock.format(f\"0{product}\"), params=store, headers=headers).json()"
   ]
  },
  {
   "cell_type": "code",
   "execution_count": 2,
   "id": "af6aea47",
   "metadata": {},
   "outputs": [],
   "source": [
    "def get_stock_zara(search_terms,lat,lng):\n",
    "        \n",
    "        products = get_id_info(search_terms)\n",
    "\n",
    "        store_info = get_stores_zara(lat, lng)\n",
    "        store_ids = [element[\"id\"] for element in store_info]\n",
    "\n",
    "        stock_url = \"https://itxrest.inditex.com/LOMOServiciosRESTCommerce-ws/common/1/stock/campaign/V2021/product/part-number/{}\"\n",
    "        headers ={\"User-Agent\":\"Mozilla/5.0 (Macintosh; Intel Mac OS X 11_2_2) AppleWebKit/537.36 (KHTML, like Gecko) Chrome/89.0.4389.114 Safari/537.36\"}\n",
    "        stock_params = {\"physicalStoreId\": store_ids}\n",
    "\n",
    "        urls = [stock_url.format(\"\".join(p[\"id_prod\"]).rjust(11,\"0\")) for p in products]\n",
    "        \n",
    "        for i,product in enumerate(products):\n",
    "            headers ={\"User-Agent\":\"Mozilla/5.0 (Macintosh; Intel Mac OS X 11_2_2) AppleWebKit/537.36 (KHTML, like Gecko) Chrome/89.0.4389.114 Safari/537.36\"}\n",
    "            products[i][\"stock\"] = requests.get(urls[i],params=stock_params,headers=headers).json()\n",
    "        #mirar porque no me va el formato json()\n"
   ]
  },
  {
   "cell_type": "code",
   "execution_count": 7,
   "id": "247ecfe0",
   "metadata": {},
   "outputs": [
    {
     "name": "stdout",
     "output_type": "stream",
     "text": [
      "CHALECO DE ESCOTE PICO Y MANGA SISA. CIERRE FRONTAL CON BOTONES.\n",
      "CHALECO ABIERTO CON MANGA SISA. BOLSILLOS DELANTEROS DE PLASTRÓN.\n",
      "CHALECO ABIERTO CON MANGA CORTA. CIERRE FRONTAL CON CINTURÓN DEL MISMO TEJIDO.\n",
      "CHALECO DE ESCOTE PICO Y MANGA SISA. ACABADOS EN RIB. CIERRE FRONTAL CON BOTONES JOYA.\n",
      "\n",
      "CHALECO ABIERTO CON MANGA CORTA. CIERRE FRONTAL CON CINTURÓN DEL MISMO TEJIDO.\n",
      "CHALECO CON ESCOTE PICO Y TIRANTES ANCHOS CRUZADOS EN ESPALDA.\n",
      "CHALECO ABIERTO CON MANGA CORTA. CIERRE FRONTAL CON CINTURÓN DEL MISMO TEJIDO.\n",
      "CHALECO CON ESCOTE PICO Y TIRANTES ANCHOS CRUZADOS EN ESPALDA.\n",
      "CHALECO CONFECCIONADO CON TEJIDO EN MEZCLA DE LANA. ESCOTE PICO Y MANGA SISA. DETALLE APLICACIÓN LENTEJUELAS. CIERRE FRONTAL CON BOTONES.\n",
      "CHALECO ABIERTO CON MANGA CORTA. CIERRE FRONTAL CON CINTURÓN DEL MISMO TEJIDO.\n",
      "\n",
      "CHALECO CORTO DE CUELLO SOLAPA Y MANGA SISA AMPLIA. BOLSILLOS DE PLASTRÓN CON SOLAPA EN DELANTERO. CIERRE EN DELANTERO CON BOTONES EN RELIEVE A PRESIÓN.\n",
      "\n",
      "CHALECO CORTO DE CUELLO Y SOLAPA CON MANGA SISA. BOLSILLOS DE PLASTRÓN CON BOTÓN EN DELANTERO. BAJO CON ELÁSTICO EN ESPALDA. CIERRE FRONTAL CON BOTONES METÁLICOS CON RELIEVE.\n",
      "\n",
      "CHALECO DE ESCOTE PICO Y MANGA SISA. BAJO ACABADO EN EVASÉ. CIERRE FRONTAL CRUZADO CON BOTONES METÁLICOS.\n",
      "\n",
      "CHALECO DE CUELLO SOLAPA Y MANGA SISA. BOLSILLOS DELANTEROS CON SOLAPA. DETALLE DE ACABADOS DESFLECADOS. CIERRE FRONTAL CON BOTONES.\n",
      "CHALECO AMPLIO DE ESCOTE PICO Y MANGA SISA. ACABADOS EN RIB COMBINADOS A TONO.\n",
      "\n",
      "CHALECO CON CUELLO SOLAPA Y MANGA SISA. BOLSILLOS DELANTEROS DE PLASTRÓN CON SOLAPA. CIERRE FRONTAL CON BOTONES METÁLICOS.\n",
      "CHALECO CORTO DE CUELLO SOLAPA Y MANGA SISA. BOLSILLOS DE PLASTRÓN CON SOLAPA EN PECHO. BAJO ACABADO DESHILACHADO. CIERRE FRONTAL CON BOTONES METÁLICOS.\n",
      "\n",
      "\n"
     ]
    }
   ],
   "source": [
    "get_stock_zara(\"chaqueta amarilla\",40.416050951604056, -3.7072654155715603)"
   ]
  },
  {
   "cell_type": "markdown",
   "id": "66f93cac",
   "metadata": {},
   "source": [
    "Funtion to get `all` the info for the products"
   ]
  },
  {
   "cell_type": "code",
   "execution_count": 3,
   "id": "f6a6e959",
   "metadata": {},
   "outputs": [],
   "source": [
    "def products_final_zara(search_item, lat, long):\n",
    "    \n",
    "    prod = get_stock_zara(search_item, lat, long)\n",
    "    \n",
    "    for product_ in prod:\n",
    "        print(f\"Pincha aquí para comprar el producto:\",  product_[\"url\"])\n",
    "        print(f\"Pincha aquí para ver como queda puesto!:\", product_[\"image\"])\n",
    "        print(f\"Tipo de producto:\", product_[\"product_name\"])\n",
    "        print(f\"Precio:\", product_[\"price\"])\n",
    "    \n",
    "        for stock in product_[\"stock\"][\"stocks\"]:\n",
    "       \n",
    "            size_stk = []\n",
    "        \n",
    "            for sizeStock in stock[\"sizeStocks\"]: \n",
    "            \n",
    "                size_stock = {}\n",
    "            \n",
    "          \n",
    "                size_ = {101:\"XS\", 102:\"S\", 103:\"M\", 104:\"L\", 105:\"XL\", 106:\"XXL\",125:\"S-M\",131:\"L-XL\"}\n",
    "                if sizeStock[\"size\"] in size_:\n",
    "                    sizeStock[\"size\"] = size_[sizeStock[\"size\"]]\n",
    "               \n",
    "                    size_stock[\"Talla\"] = sizeStock[\"size\"]\n",
    "                else:\n",
    "                    size_stock[\"Talla\"] = sizeStock[\"size\"]\n",
    "                \n",
    "           \n",
    "                if sizeStock[\"quantity\"] <= 0:\n",
    "                   size_stock[\"Stock\"] = \"Lo siento, no tenemos existencias!☹️\"\n",
    "                elif sizeStock[\"quantity\"] == 1:\n",
    "                    size_stock[\"Stock\"] = \"Últimas existencias!!\"\n",
    "                \n",
    "                elif sizeStock[\"quantity\"] >= 2:\n",
    "                    size_stock[\"Stock\"] = \"El producto está en tienda!🙂\"\n",
    "                \n",
    "                elif sizeStock[\"quantity\"] >= 4:\n",
    "                    size_stock[\"Stock\"] = \"Suficientes existencias!!😁\"\n",
    "                \n",
    "                if size_stock[\"Stock\"] == \"No tenemos existencias! 🥲\":\n",
    "                    pass\n",
    "                else: \n",
    "                    size_stk.append(size_stock)\n",
    "            \n",
    "        \n",
    "        \n",
    "            if len(size_stk) > 0:\n",
    "                print(\"id tienda:\",stock[\"physicalStoreId\"])\n",
    "                df = pd.DataFrame(size_stk)\n",
    "                print(df)"
   ]
  },
  {
   "cell_type": "code",
   "execution_count": 5,
   "id": "fca289b8",
   "metadata": {},
   "outputs": [
    {
     "name": "stdout",
     "output_type": "stream",
     "text": [
      "CHAQUETA POINTELLE CON ESCOTE PICO Y MANGA LARGA ABULLONADA. CIERRE FRONTAL CON BOTONES PERLA.\n",
      "\n",
      "CHAQUETA CANALÉ DE CUELLO SOLAPA CON TEJIDO COMBINADO EFECTO PELO DESMONTABLE Y MANGA LARGA. CIERRE FRONTAL CON LAZO.\n",
      "CHAQUETA CON ESCOTE PICO Y MANGA LARGA CON POMPONES. CIERRE FRONTAL CON BOTONES JOYA.\n",
      "CHAQUETA CON CUELLO SOLAPA Y MANGA LARGA. CIERRE FRONTAL CON BOTONES FORRADOS A TONO.\n",
      "CHAQUETA CON CUELLO SOLAPA Y MANGA LARGA. CIERRE FRONTAL CON BOTONES FORRADOS A TONO.\n",
      "CAZADORA CORTA DE CUELLO SUBIDO CON CAPUCHA AJUSTABLE CON CORDONES ELÁSTICOS Y STOPPER. MANGA LARGA ACABADA EN ELÁSTICO. BOLSILLOS LATERALES CON CREMALLERA OCULTA EN COSTURA. BAJO AJUSTABLE CON CORDONES ELÁSTICOS Y STOPPER. CIERRE FRONTAL CON CREMALLERA TERMOSELLADA.\n"
     ]
    },
    {
     "ename": "TypeError",
     "evalue": "'NoneType' object is not iterable",
     "output_type": "error",
     "traceback": [
      "\u001b[0;31m---------------------------------------------------------------------------\u001b[0m",
      "\u001b[0;31mTypeError\u001b[0m                                 Traceback (most recent call last)",
      "\u001b[0;32m<ipython-input-5-eea56f1304fe>\u001b[0m in \u001b[0;36m<module>\u001b[0;34m\u001b[0m\n\u001b[0;32m----> 1\u001b[0;31m \u001b[0mproducts_final_zara\u001b[0m\u001b[0;34m(\u001b[0m\u001b[0;34m\"chaqueta morada\"\u001b[0m\u001b[0;34m,\u001b[0m \u001b[0;36m40.416050951604056\u001b[0m\u001b[0;34m,\u001b[0m \u001b[0;34m-\u001b[0m\u001b[0;36m3.7072654155715603\u001b[0m\u001b[0;34m)\u001b[0m\u001b[0;34m\u001b[0m\u001b[0;34m\u001b[0m\u001b[0m\n\u001b[0m",
      "\u001b[0;32m<ipython-input-3-b42431915b24>\u001b[0m in \u001b[0;36mproducts_final_zara\u001b[0;34m(search_item, lat, long)\u001b[0m\n\u001b[1;32m      3\u001b[0m     \u001b[0mprod\u001b[0m \u001b[0;34m=\u001b[0m \u001b[0mget_stock_zara\u001b[0m\u001b[0;34m(\u001b[0m\u001b[0msearch_item\u001b[0m\u001b[0;34m,\u001b[0m \u001b[0mlat\u001b[0m\u001b[0;34m,\u001b[0m \u001b[0mlong\u001b[0m\u001b[0;34m)\u001b[0m\u001b[0;34m\u001b[0m\u001b[0;34m\u001b[0m\u001b[0m\n\u001b[1;32m      4\u001b[0m \u001b[0;34m\u001b[0m\u001b[0m\n\u001b[0;32m----> 5\u001b[0;31m     \u001b[0;32mfor\u001b[0m \u001b[0mproduct_\u001b[0m \u001b[0;32min\u001b[0m \u001b[0mprod\u001b[0m\u001b[0;34m:\u001b[0m\u001b[0;34m\u001b[0m\u001b[0;34m\u001b[0m\u001b[0m\n\u001b[0m\u001b[1;32m      6\u001b[0m         \u001b[0mprint\u001b[0m\u001b[0;34m(\u001b[0m\u001b[0;34mf\"Pincha aquí para comprar el producto:\"\u001b[0m\u001b[0;34m,\u001b[0m  \u001b[0mproduct_\u001b[0m\u001b[0;34m[\u001b[0m\u001b[0;34m\"url\"\u001b[0m\u001b[0;34m]\u001b[0m\u001b[0;34m)\u001b[0m\u001b[0;34m\u001b[0m\u001b[0;34m\u001b[0m\u001b[0m\n\u001b[1;32m      7\u001b[0m         \u001b[0mprint\u001b[0m\u001b[0;34m(\u001b[0m\u001b[0;34mf\"Pincha aquí para ver como queda puesto!:\"\u001b[0m\u001b[0;34m,\u001b[0m \u001b[0mproduct_\u001b[0m\u001b[0;34m[\u001b[0m\u001b[0;34m\"image\"\u001b[0m\u001b[0;34m]\u001b[0m\u001b[0;34m)\u001b[0m\u001b[0;34m\u001b[0m\u001b[0;34m\u001b[0m\u001b[0m\n",
      "\u001b[0;31mTypeError\u001b[0m: 'NoneType' object is not iterable"
     ]
    }
   ],
   "source": [
    "products_final_zara(\"chaqueta morada\", 40.416050951604056, -3.7072654155715603)"
   ]
  },
  {
   "cell_type": "code",
   "execution_count": null,
   "id": "2260d182",
   "metadata": {},
   "outputs": [],
   "source": []
  }
 ],
 "metadata": {
  "kernelspec": {
   "display_name": "ironhack",
   "language": "python",
   "name": "ironhack"
  },
  "language_info": {
   "codemirror_mode": {
    "name": "ipython",
    "version": 3
   },
   "file_extension": ".py",
   "mimetype": "text/x-python",
   "name": "python",
   "nbconvert_exporter": "python",
   "pygments_lexer": "ipython3",
   "version": "3.8.8"
  }
 },
 "nbformat": 4,
 "nbformat_minor": 5
}
