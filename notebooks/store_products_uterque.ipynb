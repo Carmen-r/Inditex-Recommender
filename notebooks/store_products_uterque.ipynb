{
 "cells": [
  {
   "cell_type": "code",
   "execution_count": null,
   "id": "f7b21357",
   "metadata": {},
   "outputs": [],
   "source": [
    "def get_id_stores(lat,lng):\n",
    "  \n",
    "    loc = {\n",
    "    \"lat\":{lat},\n",
    "    \"lng\":{lng}}   \n",
    "    \n",
    "    stores = \"https://www.pullandbear.com/itxrest/2/bam/store/24009400/physical-store?favouriteStores=true&lastStores=false&closerStores=true&latitude=40.4167754&longitude=-3.7037902&min=0&max=15&receiveEcommerce=true&countryCode=ES&languageId=-5&appId=1\"\n",
    "    \n",
    "    headers = {\"User-Agent\":\"Mozilla/5.0 (Macintosh; Intel Mac OS X 10_15_7) AppleWebKit/537.36 (KHTML, like Gecko) Chrome/86.0.4240.111 Safari/537.36\"}\n",
    "    \n",
    "    stores_id = requests.get(stores, params=loc, headers=headers).json()\n",
    "\n",
    "    store = []\n",
    "\n",
    "    for i in range(0,len(stores_id)):\n",
    "    \n",
    "        id_ = stores_id[i][\"id\"]\n",
    "        latitud = stores_id[i][\"latitude\"]\n",
    "        longitude = stores_id[i][\"longitude\"]\n",
    "        address = stores_id[i][\"addressLines\"][0]\n",
    "        days = stores_id[i][\"openingHours\"]\n",
    "\n",
    "        week_days_dic = {1:\"L\", 2:\"M\", 3:\"X\", 4:\"J\", 5:\"V\", 6:\"S\", 7:\"D\"}\n",
    "        day_hour = {}\n",
    "\n",
    "        for i in days:\n",
    "            try:\n",
    "                wd = week_days_dic[i[\"weekDay\"]]\n",
    "                open_ = i[\"openingHoursInterval\"][0][\"openTime\"]\n",
    "                close = i[\"openingHoursInterval\"][0][\"closeTime\"]\n",
    "\n",
    "                day_hour[wd]=[open_,close]\n",
    "\n",
    "            except:\n",
    "                pass\n",
    "\n",
    "        dr_store = {\"id\": id_,\"latitude\":latitud ,\"longitude\": longitude, \"address\":address, \"days\": day_hour}\n",
    "        store.append(dr_store)\n",
    "\n",
    "    return store"
   ]
  }
 ],
 "metadata": {
  "kernelspec": {
   "display_name": "ironhack",
   "language": "python",
   "name": "ironhack"
  },
  "language_info": {
   "codemirror_mode": {
    "name": "ipython",
    "version": 3
   },
   "file_extension": ".py",
   "mimetype": "text/x-python",
   "name": "python",
   "nbconvert_exporter": "python",
   "pygments_lexer": "ipython3",
   "version": "3.8.8"
  }
 },
 "nbformat": 4,
 "nbformat_minor": 5
}
