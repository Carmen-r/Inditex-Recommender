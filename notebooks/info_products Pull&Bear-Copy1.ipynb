{
 "cells": [
  {
   "cell_type": "code",
   "execution_count": 2,
   "id": "d77706b7",
   "metadata": {},
   "outputs": [],
   "source": [
    "from selenium import webdriver\n",
    "from time import sleep\n",
    "import os\n",
    "import re\n",
    "import urllib"
   ]
  },
  {
   "cell_type": "code",
   "execution_count": 2,
   "id": "babe6f5e",
   "metadata": {},
   "outputs": [],
   "source": [
    "driver = webdriver.Chrome(\"./chromedriver\")"
   ]
  },
  {
   "cell_type": "code",
   "execution_count": 70,
   "id": "f4ef035f",
   "metadata": {},
   "outputs": [],
   "source": [
    "sleep(5)"
   ]
  },
  {
   "cell_type": "code",
   "execution_count": 3,
   "id": "cbeab54b",
   "metadata": {},
   "outputs": [],
   "source": [
    "driver.get(\"https://www.pullandbear.com/es/\")"
   ]
  },
  {
   "cell_type": "code",
   "execution_count": 4,
   "id": "086e4c45",
   "metadata": {},
   "outputs": [],
   "source": [
    "driver.find_element_by_id(\"onetrust-accept-btn-handler\").click()"
   ]
  },
  {
   "cell_type": "code",
   "execution_count": 5,
   "id": "87d730ca",
   "metadata": {},
   "outputs": [],
   "source": [
    "driver.find_element_by_id(\"saveStore\").click()"
   ]
  },
  {
   "cell_type": "code",
   "execution_count": 6,
   "id": "0ec695d5",
   "metadata": {},
   "outputs": [
    {
     "ename": "NoSuchElementException",
     "evalue": "Message: no such element: Unable to locate element: {\"method\":\"css selector\",\"selector\":\"body > div.m-header.is-visible.never-been-opened.theme-protected-menu-cover > div.c-nav-header.nav-special-height > div.search-box-wrapper.nav-item--fade-out > button\"}\n  (Session info: chrome=90.0.4430.212)\n",
     "output_type": "error",
     "traceback": [
      "\u001b[0;31m---------------------------------------------------------------------------\u001b[0m",
      "\u001b[0;31mNoSuchElementException\u001b[0m                    Traceback (most recent call last)",
      "\u001b[0;32m<ipython-input-6-50e63d9ff0c1>\u001b[0m in \u001b[0;36m<module>\u001b[0;34m\u001b[0m\n\u001b[0;32m----> 1\u001b[0;31m \u001b[0mdriver\u001b[0m\u001b[0;34m.\u001b[0m\u001b[0mfind_element_by_css_selector\u001b[0m\u001b[0;34m(\u001b[0m\u001b[0;34m\"body > div.m-header.is-visible.never-been-opened.theme-protected-menu-cover > div.c-nav-header.nav-special-height > div.search-box-wrapper.nav-item--fade-out > button\"\u001b[0m\u001b[0;34m)\u001b[0m\u001b[0;34m.\u001b[0m\u001b[0mclick\u001b[0m\u001b[0;34m(\u001b[0m\u001b[0;34m)\u001b[0m\u001b[0;34m\u001b[0m\u001b[0;34m\u001b[0m\u001b[0m\n\u001b[0m",
      "\u001b[0;32m/usr/local/Caskroom/miniconda/base/envs/ironhack/lib/python3.8/site-packages/selenium/webdriver/remote/webdriver.py\u001b[0m in \u001b[0;36mfind_element_by_css_selector\u001b[0;34m(self, css_selector)\u001b[0m\n\u001b[1;32m    596\u001b[0m             \u001b[0melement\u001b[0m \u001b[0;34m=\u001b[0m \u001b[0mdriver\u001b[0m\u001b[0;34m.\u001b[0m\u001b[0mfind_element_by_css_selector\u001b[0m\u001b[0;34m(\u001b[0m\u001b[0;34m'#foo'\u001b[0m\u001b[0;34m)\u001b[0m\u001b[0;34m\u001b[0m\u001b[0;34m\u001b[0m\u001b[0m\n\u001b[1;32m    597\u001b[0m         \"\"\"\n\u001b[0;32m--> 598\u001b[0;31m         \u001b[0;32mreturn\u001b[0m \u001b[0mself\u001b[0m\u001b[0;34m.\u001b[0m\u001b[0mfind_element\u001b[0m\u001b[0;34m(\u001b[0m\u001b[0mby\u001b[0m\u001b[0;34m=\u001b[0m\u001b[0mBy\u001b[0m\u001b[0;34m.\u001b[0m\u001b[0mCSS_SELECTOR\u001b[0m\u001b[0;34m,\u001b[0m \u001b[0mvalue\u001b[0m\u001b[0;34m=\u001b[0m\u001b[0mcss_selector\u001b[0m\u001b[0;34m)\u001b[0m\u001b[0;34m\u001b[0m\u001b[0;34m\u001b[0m\u001b[0m\n\u001b[0m\u001b[1;32m    599\u001b[0m \u001b[0;34m\u001b[0m\u001b[0m\n\u001b[1;32m    600\u001b[0m     \u001b[0;32mdef\u001b[0m \u001b[0mfind_elements_by_css_selector\u001b[0m\u001b[0;34m(\u001b[0m\u001b[0mself\u001b[0m\u001b[0;34m,\u001b[0m \u001b[0mcss_selector\u001b[0m\u001b[0;34m)\u001b[0m\u001b[0;34m:\u001b[0m\u001b[0;34m\u001b[0m\u001b[0;34m\u001b[0m\u001b[0m\n",
      "\u001b[0;32m/usr/local/Caskroom/miniconda/base/envs/ironhack/lib/python3.8/site-packages/selenium/webdriver/remote/webdriver.py\u001b[0m in \u001b[0;36mfind_element\u001b[0;34m(self, by, value)\u001b[0m\n\u001b[1;32m    974\u001b[0m                 \u001b[0mby\u001b[0m \u001b[0;34m=\u001b[0m \u001b[0mBy\u001b[0m\u001b[0;34m.\u001b[0m\u001b[0mCSS_SELECTOR\u001b[0m\u001b[0;34m\u001b[0m\u001b[0;34m\u001b[0m\u001b[0m\n\u001b[1;32m    975\u001b[0m                 \u001b[0mvalue\u001b[0m \u001b[0;34m=\u001b[0m \u001b[0;34m'[name=\"%s\"]'\u001b[0m \u001b[0;34m%\u001b[0m \u001b[0mvalue\u001b[0m\u001b[0;34m\u001b[0m\u001b[0;34m\u001b[0m\u001b[0m\n\u001b[0;32m--> 976\u001b[0;31m         return self.execute(Command.FIND_ELEMENT, {\n\u001b[0m\u001b[1;32m    977\u001b[0m             \u001b[0;34m'using'\u001b[0m\u001b[0;34m:\u001b[0m \u001b[0mby\u001b[0m\u001b[0;34m,\u001b[0m\u001b[0;34m\u001b[0m\u001b[0;34m\u001b[0m\u001b[0m\n\u001b[1;32m    978\u001b[0m             'value': value})['value']\n",
      "\u001b[0;32m/usr/local/Caskroom/miniconda/base/envs/ironhack/lib/python3.8/site-packages/selenium/webdriver/remote/webdriver.py\u001b[0m in \u001b[0;36mexecute\u001b[0;34m(self, driver_command, params)\u001b[0m\n\u001b[1;32m    319\u001b[0m         \u001b[0mresponse\u001b[0m \u001b[0;34m=\u001b[0m \u001b[0mself\u001b[0m\u001b[0;34m.\u001b[0m\u001b[0mcommand_executor\u001b[0m\u001b[0;34m.\u001b[0m\u001b[0mexecute\u001b[0m\u001b[0;34m(\u001b[0m\u001b[0mdriver_command\u001b[0m\u001b[0;34m,\u001b[0m \u001b[0mparams\u001b[0m\u001b[0;34m)\u001b[0m\u001b[0;34m\u001b[0m\u001b[0;34m\u001b[0m\u001b[0m\n\u001b[1;32m    320\u001b[0m         \u001b[0;32mif\u001b[0m \u001b[0mresponse\u001b[0m\u001b[0;34m:\u001b[0m\u001b[0;34m\u001b[0m\u001b[0;34m\u001b[0m\u001b[0m\n\u001b[0;32m--> 321\u001b[0;31m             \u001b[0mself\u001b[0m\u001b[0;34m.\u001b[0m\u001b[0merror_handler\u001b[0m\u001b[0;34m.\u001b[0m\u001b[0mcheck_response\u001b[0m\u001b[0;34m(\u001b[0m\u001b[0mresponse\u001b[0m\u001b[0;34m)\u001b[0m\u001b[0;34m\u001b[0m\u001b[0;34m\u001b[0m\u001b[0m\n\u001b[0m\u001b[1;32m    322\u001b[0m             response['value'] = self._unwrap_value(\n\u001b[1;32m    323\u001b[0m                 response.get('value', None))\n",
      "\u001b[0;32m/usr/local/Caskroom/miniconda/base/envs/ironhack/lib/python3.8/site-packages/selenium/webdriver/remote/errorhandler.py\u001b[0m in \u001b[0;36mcheck_response\u001b[0;34m(self, response)\u001b[0m\n\u001b[1;32m    240\u001b[0m                 \u001b[0malert_text\u001b[0m \u001b[0;34m=\u001b[0m \u001b[0mvalue\u001b[0m\u001b[0;34m[\u001b[0m\u001b[0;34m'alert'\u001b[0m\u001b[0;34m]\u001b[0m\u001b[0;34m.\u001b[0m\u001b[0mget\u001b[0m\u001b[0;34m(\u001b[0m\u001b[0;34m'text'\u001b[0m\u001b[0;34m)\u001b[0m\u001b[0;34m\u001b[0m\u001b[0;34m\u001b[0m\u001b[0m\n\u001b[1;32m    241\u001b[0m             \u001b[0;32mraise\u001b[0m \u001b[0mexception_class\u001b[0m\u001b[0;34m(\u001b[0m\u001b[0mmessage\u001b[0m\u001b[0;34m,\u001b[0m \u001b[0mscreen\u001b[0m\u001b[0;34m,\u001b[0m \u001b[0mstacktrace\u001b[0m\u001b[0;34m,\u001b[0m \u001b[0malert_text\u001b[0m\u001b[0;34m)\u001b[0m\u001b[0;34m\u001b[0m\u001b[0;34m\u001b[0m\u001b[0m\n\u001b[0;32m--> 242\u001b[0;31m         \u001b[0;32mraise\u001b[0m \u001b[0mexception_class\u001b[0m\u001b[0;34m(\u001b[0m\u001b[0mmessage\u001b[0m\u001b[0;34m,\u001b[0m \u001b[0mscreen\u001b[0m\u001b[0;34m,\u001b[0m \u001b[0mstacktrace\u001b[0m\u001b[0;34m)\u001b[0m\u001b[0;34m\u001b[0m\u001b[0;34m\u001b[0m\u001b[0m\n\u001b[0m\u001b[1;32m    243\u001b[0m \u001b[0;34m\u001b[0m\u001b[0m\n\u001b[1;32m    244\u001b[0m     \u001b[0;32mdef\u001b[0m \u001b[0m_value_or_default\u001b[0m\u001b[0;34m(\u001b[0m\u001b[0mself\u001b[0m\u001b[0;34m,\u001b[0m \u001b[0mobj\u001b[0m\u001b[0;34m,\u001b[0m \u001b[0mkey\u001b[0m\u001b[0;34m,\u001b[0m \u001b[0mdefault\u001b[0m\u001b[0;34m)\u001b[0m\u001b[0;34m:\u001b[0m\u001b[0;34m\u001b[0m\u001b[0;34m\u001b[0m\u001b[0m\n",
      "\u001b[0;31mNoSuchElementException\u001b[0m: Message: no such element: Unable to locate element: {\"method\":\"css selector\",\"selector\":\"body > div.m-header.is-visible.never-been-opened.theme-protected-menu-cover > div.c-nav-header.nav-special-height > div.search-box-wrapper.nav-item--fade-out > button\"}\n  (Session info: chrome=90.0.4430.212)\n"
     ]
    }
   ],
   "source": [
    "driver.find_element_by_css_selector(\"body > div.m-header.is-visible.never-been-opened.theme-protected-menu-cover > div.c-nav-header.nav-special-height > div.search-box-wrapper.nav-item--fade-out > button\").click()"
   ]
  },
  {
   "cell_type": "code",
   "execution_count": 7,
   "id": "dfa3b959",
   "metadata": {},
   "outputs": [
    {
     "ename": "NoSuchElementException",
     "evalue": "Message: no such element: Unable to locate element: {\"method\":\"css selector\",\"selector\":\"body > div.m-header.is-visible.never-been-opened > div.c-nav-header.nav-special-height > div.search-box-wrapper.nav-item--fade-out > button\"}\n  (Session info: chrome=90.0.4430.212)\n",
     "output_type": "error",
     "traceback": [
      "\u001b[0;31m---------------------------------------------------------------------------\u001b[0m",
      "\u001b[0;31mNoSuchElementException\u001b[0m                    Traceback (most recent call last)",
      "\u001b[0;32m<ipython-input-7-bc9a4d74c1df>\u001b[0m in \u001b[0;36m<module>\u001b[0;34m\u001b[0m\n\u001b[0;32m----> 1\u001b[0;31m \u001b[0msearch\u001b[0m \u001b[0;34m=\u001b[0m \u001b[0mdriver\u001b[0m\u001b[0;34m.\u001b[0m\u001b[0mfind_element_by_css_selector\u001b[0m\u001b[0;34m(\u001b[0m\u001b[0;34m\"body > div.m-header.is-visible.never-been-opened > div.c-nav-header.nav-special-height > div.search-box-wrapper.nav-item--fade-out > button\"\u001b[0m\u001b[0;34m)\u001b[0m\u001b[0;34m\u001b[0m\u001b[0;34m\u001b[0m\u001b[0m\n\u001b[0m",
      "\u001b[0;32m/usr/local/Caskroom/miniconda/base/envs/ironhack/lib/python3.8/site-packages/selenium/webdriver/remote/webdriver.py\u001b[0m in \u001b[0;36mfind_element_by_css_selector\u001b[0;34m(self, css_selector)\u001b[0m\n\u001b[1;32m    596\u001b[0m             \u001b[0melement\u001b[0m \u001b[0;34m=\u001b[0m \u001b[0mdriver\u001b[0m\u001b[0;34m.\u001b[0m\u001b[0mfind_element_by_css_selector\u001b[0m\u001b[0;34m(\u001b[0m\u001b[0;34m'#foo'\u001b[0m\u001b[0;34m)\u001b[0m\u001b[0;34m\u001b[0m\u001b[0;34m\u001b[0m\u001b[0m\n\u001b[1;32m    597\u001b[0m         \"\"\"\n\u001b[0;32m--> 598\u001b[0;31m         \u001b[0;32mreturn\u001b[0m \u001b[0mself\u001b[0m\u001b[0;34m.\u001b[0m\u001b[0mfind_element\u001b[0m\u001b[0;34m(\u001b[0m\u001b[0mby\u001b[0m\u001b[0;34m=\u001b[0m\u001b[0mBy\u001b[0m\u001b[0;34m.\u001b[0m\u001b[0mCSS_SELECTOR\u001b[0m\u001b[0;34m,\u001b[0m \u001b[0mvalue\u001b[0m\u001b[0;34m=\u001b[0m\u001b[0mcss_selector\u001b[0m\u001b[0;34m)\u001b[0m\u001b[0;34m\u001b[0m\u001b[0;34m\u001b[0m\u001b[0m\n\u001b[0m\u001b[1;32m    599\u001b[0m \u001b[0;34m\u001b[0m\u001b[0m\n\u001b[1;32m    600\u001b[0m     \u001b[0;32mdef\u001b[0m \u001b[0mfind_elements_by_css_selector\u001b[0m\u001b[0;34m(\u001b[0m\u001b[0mself\u001b[0m\u001b[0;34m,\u001b[0m \u001b[0mcss_selector\u001b[0m\u001b[0;34m)\u001b[0m\u001b[0;34m:\u001b[0m\u001b[0;34m\u001b[0m\u001b[0;34m\u001b[0m\u001b[0m\n",
      "\u001b[0;32m/usr/local/Caskroom/miniconda/base/envs/ironhack/lib/python3.8/site-packages/selenium/webdriver/remote/webdriver.py\u001b[0m in \u001b[0;36mfind_element\u001b[0;34m(self, by, value)\u001b[0m\n\u001b[1;32m    974\u001b[0m                 \u001b[0mby\u001b[0m \u001b[0;34m=\u001b[0m \u001b[0mBy\u001b[0m\u001b[0;34m.\u001b[0m\u001b[0mCSS_SELECTOR\u001b[0m\u001b[0;34m\u001b[0m\u001b[0;34m\u001b[0m\u001b[0m\n\u001b[1;32m    975\u001b[0m                 \u001b[0mvalue\u001b[0m \u001b[0;34m=\u001b[0m \u001b[0;34m'[name=\"%s\"]'\u001b[0m \u001b[0;34m%\u001b[0m \u001b[0mvalue\u001b[0m\u001b[0;34m\u001b[0m\u001b[0;34m\u001b[0m\u001b[0m\n\u001b[0;32m--> 976\u001b[0;31m         return self.execute(Command.FIND_ELEMENT, {\n\u001b[0m\u001b[1;32m    977\u001b[0m             \u001b[0;34m'using'\u001b[0m\u001b[0;34m:\u001b[0m \u001b[0mby\u001b[0m\u001b[0;34m,\u001b[0m\u001b[0;34m\u001b[0m\u001b[0;34m\u001b[0m\u001b[0m\n\u001b[1;32m    978\u001b[0m             'value': value})['value']\n",
      "\u001b[0;32m/usr/local/Caskroom/miniconda/base/envs/ironhack/lib/python3.8/site-packages/selenium/webdriver/remote/webdriver.py\u001b[0m in \u001b[0;36mexecute\u001b[0;34m(self, driver_command, params)\u001b[0m\n\u001b[1;32m    319\u001b[0m         \u001b[0mresponse\u001b[0m \u001b[0;34m=\u001b[0m \u001b[0mself\u001b[0m\u001b[0;34m.\u001b[0m\u001b[0mcommand_executor\u001b[0m\u001b[0;34m.\u001b[0m\u001b[0mexecute\u001b[0m\u001b[0;34m(\u001b[0m\u001b[0mdriver_command\u001b[0m\u001b[0;34m,\u001b[0m \u001b[0mparams\u001b[0m\u001b[0;34m)\u001b[0m\u001b[0;34m\u001b[0m\u001b[0;34m\u001b[0m\u001b[0m\n\u001b[1;32m    320\u001b[0m         \u001b[0;32mif\u001b[0m \u001b[0mresponse\u001b[0m\u001b[0;34m:\u001b[0m\u001b[0;34m\u001b[0m\u001b[0;34m\u001b[0m\u001b[0m\n\u001b[0;32m--> 321\u001b[0;31m             \u001b[0mself\u001b[0m\u001b[0;34m.\u001b[0m\u001b[0merror_handler\u001b[0m\u001b[0;34m.\u001b[0m\u001b[0mcheck_response\u001b[0m\u001b[0;34m(\u001b[0m\u001b[0mresponse\u001b[0m\u001b[0;34m)\u001b[0m\u001b[0;34m\u001b[0m\u001b[0;34m\u001b[0m\u001b[0m\n\u001b[0m\u001b[1;32m    322\u001b[0m             response['value'] = self._unwrap_value(\n\u001b[1;32m    323\u001b[0m                 response.get('value', None))\n",
      "\u001b[0;32m/usr/local/Caskroom/miniconda/base/envs/ironhack/lib/python3.8/site-packages/selenium/webdriver/remote/errorhandler.py\u001b[0m in \u001b[0;36mcheck_response\u001b[0;34m(self, response)\u001b[0m\n\u001b[1;32m    240\u001b[0m                 \u001b[0malert_text\u001b[0m \u001b[0;34m=\u001b[0m \u001b[0mvalue\u001b[0m\u001b[0;34m[\u001b[0m\u001b[0;34m'alert'\u001b[0m\u001b[0;34m]\u001b[0m\u001b[0;34m.\u001b[0m\u001b[0mget\u001b[0m\u001b[0;34m(\u001b[0m\u001b[0;34m'text'\u001b[0m\u001b[0;34m)\u001b[0m\u001b[0;34m\u001b[0m\u001b[0;34m\u001b[0m\u001b[0m\n\u001b[1;32m    241\u001b[0m             \u001b[0;32mraise\u001b[0m \u001b[0mexception_class\u001b[0m\u001b[0;34m(\u001b[0m\u001b[0mmessage\u001b[0m\u001b[0;34m,\u001b[0m \u001b[0mscreen\u001b[0m\u001b[0;34m,\u001b[0m \u001b[0mstacktrace\u001b[0m\u001b[0;34m,\u001b[0m \u001b[0malert_text\u001b[0m\u001b[0;34m)\u001b[0m\u001b[0;34m\u001b[0m\u001b[0;34m\u001b[0m\u001b[0m\n\u001b[0;32m--> 242\u001b[0;31m         \u001b[0;32mraise\u001b[0m \u001b[0mexception_class\u001b[0m\u001b[0;34m(\u001b[0m\u001b[0mmessage\u001b[0m\u001b[0;34m,\u001b[0m \u001b[0mscreen\u001b[0m\u001b[0;34m,\u001b[0m \u001b[0mstacktrace\u001b[0m\u001b[0;34m)\u001b[0m\u001b[0;34m\u001b[0m\u001b[0;34m\u001b[0m\u001b[0m\n\u001b[0m\u001b[1;32m    243\u001b[0m \u001b[0;34m\u001b[0m\u001b[0m\n\u001b[1;32m    244\u001b[0m     \u001b[0;32mdef\u001b[0m \u001b[0m_value_or_default\u001b[0m\u001b[0;34m(\u001b[0m\u001b[0mself\u001b[0m\u001b[0;34m,\u001b[0m \u001b[0mobj\u001b[0m\u001b[0;34m,\u001b[0m \u001b[0mkey\u001b[0m\u001b[0;34m,\u001b[0m \u001b[0mdefault\u001b[0m\u001b[0;34m)\u001b[0m\u001b[0;34m:\u001b[0m\u001b[0;34m\u001b[0m\u001b[0;34m\u001b[0m\u001b[0m\n",
      "\u001b[0;31mNoSuchElementException\u001b[0m: Message: no such element: Unable to locate element: {\"method\":\"css selector\",\"selector\":\"body > div.m-header.is-visible.never-been-opened > div.c-nav-header.nav-special-height > div.search-box-wrapper.nav-item--fade-out > button\"}\n  (Session info: chrome=90.0.4430.212)\n"
     ]
    }
   ],
   "source": [
    "search = driver.find_element_by_css_selector(\"body > div.m-header.is-visible.never-been-opened > div.c-nav-header.nav-special-height > div.search-box-wrapper.nav-item--fade-out > button\")"
   ]
  },
  {
   "cell_type": "code",
   "execution_count": 28,
   "id": "b5fdec60",
   "metadata": {},
   "outputs": [],
   "source": [
    "search.click()"
   ]
  },
  {
   "cell_type": "code",
   "execution_count": 143,
   "id": "02f65c6b",
   "metadata": {},
   "outputs": [],
   "source": [
    "driver.find_element_by_css_selector(\"#empathy-x > header > div > div > input\").send_keys(\"cazadora vaquera\")"
   ]
  },
  {
   "cell_type": "code",
   "execution_count": 144,
   "id": "f68ae1cb",
   "metadata": {},
   "outputs": [],
   "source": [
    "url_prod = driver.find_elements_by_css_selector(\"section > section > article\")"
   ]
  },
  {
   "cell_type": "code",
   "execution_count": 145,
   "id": "51f513cc",
   "metadata": {},
   "outputs": [
    {
     "data": {
      "text/plain": [
       "[<selenium.webdriver.remote.webelement.WebElement (session=\"78c96231ee5facb3212d50e53f9aa859\", element=\"b81a5382-cb24-4a86-8d06-f2ce14232fe5\")>,\n",
       " <selenium.webdriver.remote.webelement.WebElement (session=\"78c96231ee5facb3212d50e53f9aa859\", element=\"eebb94b1-3adf-4b95-99fd-52ec025e9391\")>,\n",
       " <selenium.webdriver.remote.webelement.WebElement (session=\"78c96231ee5facb3212d50e53f9aa859\", element=\"23a88d15-4cd0-4482-b216-b2c01bb6304e\")>,\n",
       " <selenium.webdriver.remote.webelement.WebElement (session=\"78c96231ee5facb3212d50e53f9aa859\", element=\"73726e67-8adf-4c60-8f99-93f923220c8d\")>,\n",
       " <selenium.webdriver.remote.webelement.WebElement (session=\"78c96231ee5facb3212d50e53f9aa859\", element=\"f48e7fb9-b854-4140-a393-9caffeb384c1\")>,\n",
       " <selenium.webdriver.remote.webelement.WebElement (session=\"78c96231ee5facb3212d50e53f9aa859\", element=\"1221ee02-ea84-4ba2-bbf6-1ea465a41610\")>,\n",
       " <selenium.webdriver.remote.webelement.WebElement (session=\"78c96231ee5facb3212d50e53f9aa859\", element=\"b5387fa5-fc56-4046-b6bb-b4e771d0031f\")>,\n",
       " <selenium.webdriver.remote.webelement.WebElement (session=\"78c96231ee5facb3212d50e53f9aa859\", element=\"af4b8dcf-f913-4b6b-beb3-5a99d9d145b3\")>,\n",
       " <selenium.webdriver.remote.webelement.WebElement (session=\"78c96231ee5facb3212d50e53f9aa859\", element=\"ac8161be-1d98-4bd4-a475-ac28aafedcd5\")>,\n",
       " <selenium.webdriver.remote.webelement.WebElement (session=\"78c96231ee5facb3212d50e53f9aa859\", element=\"ea48757a-833e-444b-9ca8-4918e4088662\")>,\n",
       " <selenium.webdriver.remote.webelement.WebElement (session=\"78c96231ee5facb3212d50e53f9aa859\", element=\"7d0c075d-a537-4a2c-8a76-98e5ba20d008\")>,\n",
       " <selenium.webdriver.remote.webelement.WebElement (session=\"78c96231ee5facb3212d50e53f9aa859\", element=\"57f6d0cd-7db0-4594-ad07-1660207e68ea\")>,\n",
       " <selenium.webdriver.remote.webelement.WebElement (session=\"78c96231ee5facb3212d50e53f9aa859\", element=\"fa690fea-7bb8-426b-a146-50e68bfb4707\")>,\n",
       " <selenium.webdriver.remote.webelement.WebElement (session=\"78c96231ee5facb3212d50e53f9aa859\", element=\"5daa59cc-2f43-407e-8270-ec04ea92d329\")>,\n",
       " <selenium.webdriver.remote.webelement.WebElement (session=\"78c96231ee5facb3212d50e53f9aa859\", element=\"ba7a8d8d-819d-49e7-8c1e-68b996213847\")>,\n",
       " <selenium.webdriver.remote.webelement.WebElement (session=\"78c96231ee5facb3212d50e53f9aa859\", element=\"ce6cd407-a911-42e4-8004-68d321e84499\")>,\n",
       " <selenium.webdriver.remote.webelement.WebElement (session=\"78c96231ee5facb3212d50e53f9aa859\", element=\"867af835-d4ed-482a-b8f6-bea3912283b4\")>,\n",
       " <selenium.webdriver.remote.webelement.WebElement (session=\"78c96231ee5facb3212d50e53f9aa859\", element=\"a82d06ba-2ee2-401e-948a-77aba37a550d\")>,\n",
       " <selenium.webdriver.remote.webelement.WebElement (session=\"78c96231ee5facb3212d50e53f9aa859\", element=\"1ff96e38-c38c-4546-85f2-e46650338009\")>,\n",
       " <selenium.webdriver.remote.webelement.WebElement (session=\"78c96231ee5facb3212d50e53f9aa859\", element=\"1ea3ee84-99b8-4a83-b17b-7eee0a5bb334\")>,\n",
       " <selenium.webdriver.remote.webelement.WebElement (session=\"78c96231ee5facb3212d50e53f9aa859\", element=\"b89ba0c0-99f8-4d7d-9205-5ccfca3b4f0c\")>,\n",
       " <selenium.webdriver.remote.webelement.WebElement (session=\"78c96231ee5facb3212d50e53f9aa859\", element=\"e0057637-d028-4562-979d-f573d53de7de\")>,\n",
       " <selenium.webdriver.remote.webelement.WebElement (session=\"78c96231ee5facb3212d50e53f9aa859\", element=\"d1407242-47cf-4cde-a88f-5abff126e6e2\")>,\n",
       " <selenium.webdriver.remote.webelement.WebElement (session=\"78c96231ee5facb3212d50e53f9aa859\", element=\"4b8e7e9c-8bfa-4741-a5b4-688178f03768\")>]"
      ]
     },
     "execution_count": 145,
     "metadata": {},
     "output_type": "execute_result"
    }
   ],
   "source": [
    "url_prod"
   ]
  },
  {
   "cell_type": "code",
   "execution_count": 146,
   "id": "edba9409",
   "metadata": {},
   "outputs": [],
   "source": [
    "total_prod = []\n",
    "for url in all_url_prod:\n",
    "   \n",
    "    dic_total_prod = {\"url\": [] ,\"image\": [],\"product_name\": [], \"price\": []}\n",
    "    \n",
    "    dic_total_prod[\"url\"] = url.find_element_by_css_selector(\"section > section > article > a\").get_attribute(\"href\")\n",
    "    \n",
    "    dic_total_prod[\"image\"] = url.find_element_by_css_selector(\"section > section > article > a > section > img\").get_attribute(\"src\")\n",
    "    \n",
    "    dic_total_prod[\"product_name\"] = url.find_element_by_css_selector(\"#ebx-grid > article > a > h1\").text\n",
    "    \n",
    "    dic_total_prod[\"price\"] = url.find_element_by_css_selector(\"#ebx-grid > article > a > p > strong\").text\n",
    "    \n",
    "    total_prod.append(dic_total_prod)"
   ]
  },
  {
   "cell_type": "code",
   "execution_count": 147,
   "id": "cb74661c",
   "metadata": {},
   "outputs": [
    {
     "data": {
      "text/plain": [
       "[{'url': 'https://www.pullandbear.com/es/mujer-c1010141503p502624026.html?colorId=400',\n",
       "  'image': 'https://static.pullandbear.net/2/photos/2021/V/0/1/p/9714/324/400/9714324400_2_1_2.jpg?t=1612184560893',\n",
       "  'product_name': 'Cazadora vaquera oversize azul',\n",
       "  'price': '25,99 € '},\n",
       " {'url': 'https://www.pullandbear.com/es/mujer-c1010141503p502620834.html?colorId=400',\n",
       "  'image': 'https://static.pullandbear.net/2/photos/2021/V/0/1/p/5713/366/400/5713366400_2_1_2.jpg?t=1618302208360',\n",
       "  'product_name': 'Cazadora vaquera larga rotos',\n",
       "  'price': '29,99 € '},\n",
       " {'url': 'https://www.pullandbear.com/es/mujer-c1010141503p502621007.html?colorId=800',\n",
       "  'image': 'https://static.pullandbear.net/2/photos/2021/V/0/1/p/5713/329/800/5713329800_2_1_2.jpg?t=1619785032474',\n",
       "  'product_name': 'Cazadora vaquera negra boyfriend',\n",
       "  'price': '29,99 € '},\n",
       " {'url': 'https://www.pullandbear.com/es/mujer-c1010141503p502666609.html?colorId=400',\n",
       "  'image': 'https://static.pullandbear.net/2/photos/2021/V/0/1/p/4711/335/400/4711335400_2_1_2.jpg?t=1615473684701',\n",
       "  'product_name': 'Cazadora vaquera azul pliegues',\n",
       "  'price': '39,99 € '},\n",
       " {'url': 'https://www.pullandbear.com/es/mujer-c1010141503p502625274.html?colorId=250',\n",
       "  'image': 'https://static.pullandbear.net/2/photos/2021/V/0/1/p/9710/305/250/9710305250_2_1_2.jpg?t=1616747286071',\n",
       "  'product_name': 'Cazadora vaquera cropped bajo deshilachado',\n",
       "  'price': '25,99 € '},\n",
       " {'url': 'https://www.pullandbear.com/es/mujer-c1010141503p502537014.html?colorId=407',\n",
       "  'image': 'https://static.pullandbear.net/2/photos/2021/V/0/1/p/9714/348/407/9714348407_2_1_2.jpg?t=1590689939053',\n",
       "  'product_name': 'Cazadora vaquera básica ajustada',\n",
       "  'price': '19,99 € '},\n",
       " {'url': 'https://www.pullandbear.com/es/mujer-c1010141503p502620828.html?colorId=400',\n",
       "  'image': 'https://static.pullandbear.net/2/photos/2021/V/0/1/p/5713/360/400/5713360400_2_1_2.jpg?t=1611842571759',\n",
       "  'product_name': 'Cazadora vaquera larga cinturón',\n",
       "  'price': '35,99 € '},\n",
       " {'url': 'https://www.pullandbear.com/es/mujer-c1010141503p502806615.html?colorId=400',\n",
       "  'image': 'https://static.pullandbear.net/2/photos/2021/I/0/1/p/8711/301/400/8711301400_2_1_2.jpg?t=1620919325402',\n",
       "  'product_name': 'Cazadora vaquera oversize rotos',\n",
       "  'price': '29,99 € '},\n",
       " {'url': 'https://www.pullandbear.com/es/mujer-c1010141503p502718012.html?colorId=400',\n",
       "  'image': 'https://static.pullandbear.net/2/photos/2021/V/0/1/p/4711/406/400/4711406400_2_1_2.jpg?t=1620288468351',\n",
       "  'product_name': 'Cazadora vaquera patchwork',\n",
       "  'price': '39,99 € '},\n",
       " {'url': 'https://www.pullandbear.com/es/mujer-c1010141503p502681021.html?colorId=400',\n",
       "  'image': 'https://static.pullandbear.net/2/photos/2021/V/0/1/p/4711/338/400/4711338400_2_1_2.jpg?t=1619696611186',\n",
       "  'product_name': 'Cazadora vaquera patchwork',\n",
       "  'price': '39,99 € '},\n",
       " {'url': 'https://www.pullandbear.com/es/mujer-c1010141503p502625274.html?colorId=407',\n",
       "  'image': 'https://static.pullandbear.net/2/photos/2021/V/0/1/p/9710/305/407/9710305407_2_1_2.jpg?t=1616747286071',\n",
       "  'product_name': 'Cazadora vaquera cropped bajo deshilachado',\n",
       "  'price': '25,99 € '},\n",
       " {'url': 'https://www.pullandbear.com/es/mujer-c1010141503p502584033.html?colorId=400',\n",
       "  'image': 'https://static.pullandbear.net/2/photos/2021/V/0/1/p/4711/325/400/4711325400_2_1_2.jpg?t=1616435672608',\n",
       "  'product_name': 'Cazadora vaquera tie-dye - Al menos 50% algodón orgánico',\n",
       "  'price': '39,99 € '},\n",
       " {'url': 'https://www.pullandbear.com/es/mujer-c1010141503p502625446.html?colorId=427',\n",
       "  'image': 'https://static.pullandbear.net/2/photos/2021/V/0/1/p/9710/302/427/9710302427_2_1_2.jpg?t=1614878236270',\n",
       "  'product_name': 'Cazadora vaquera goma espalda',\n",
       "  'price': '29,99 € '},\n",
       " {'url': 'https://www.pullandbear.com/es/mujer-c1010141503p502614083.html?colorId=400',\n",
       "  'image': 'https://static.pullandbear.net/2/photos/2021/V/0/1/p/4711/326/400/4711326400_2_1_2.jpg?t=1614346985047',\n",
       "  'product_name': 'Cazadora vaquera patchwork bandana - Contiene algodón reciclado',\n",
       "  'price': '39,99 € '},\n",
       " {'url': 'https://www.pullandbear.com/es/mujer-c1010141503p502536160.html?colorId=406',\n",
       "  'image': 'https://static.pullandbear.net/2/photos/2021/V/0/1/p/9710/230/406/9710230406_2_1_2.jpg?t=1614089076331',\n",
       "  'product_name': 'Cazadora vaquera cuello borreguillo',\n",
       "  'price': '39,99 € '},\n",
       " {'url': 'https://www.pullandbear.com/es/mujer-c1010141503p502536160.html?colorId=800',\n",
       "  'image': 'https://static.pullandbear.net/2/photos/2021/V/0/1/p/9710/230/800/9710230800_2_1_2.jpg?t=1614089076331',\n",
       "  'product_name': 'Cazadora vaquera cuello borreguillo',\n",
       "  'price': '39,99 € '},\n",
       " {'url': 'https://www.pullandbear.com/es/mujer-c1010141503p502537014.html?colorId=800',\n",
       "  'image': 'https://static.pullandbear.net/2/photos/2021/V/0/1/p/9714/348/800/9714348800_2_1_2.jpg?t=1590689939053',\n",
       "  'product_name': 'Cazadora vaquera básica ajustada',\n",
       "  'price': '19,99 € '},\n",
       " {'url': 'https://www.pullandbear.com/es/mujer-c1010141503p502626848.html?colorId=059',\n",
       "  'image': 'https://static.pullandbear.net/2/photos/2021/V/0/1/p/4711/340/059/4711340059_2_1_2.jpg?t=1616414773680',\n",
       "  'product_name': 'Cazadora tie-dye costuras',\n",
       "  'price': '35,99 € '},\n",
       " {'url': 'https://www.pullandbear.com/es/mujer-c1010141503p502626848.html?colorId=036',\n",
       "  'image': 'https://static.pullandbear.net/2/photos/2021/V/0/1/p/4711/340/036/4711340036_2_1_2.jpg?t=1616414773680',\n",
       "  'product_name': 'Cazadora tie-dye costuras',\n",
       "  'price': '35,99 € '},\n",
       " {'url': 'https://www.pullandbear.com/es/mujer-c1010141503p502543495.html?colorId=711',\n",
       "  'image': 'https://static.pullandbear.net/2/photos/2021/V/0/1/p/4711/319/711/4711319711_2_1_2.jpg?t=1615814668439',\n",
       "  'product_name': 'Cazadora sahariana algodón - Al menos 50% algodón orgánico',\n",
       "  'price': '25,99 € '},\n",
       " {'url': 'https://www.pullandbear.com/es/mujer-c1010141503p502543495.html?colorId=620',\n",
       "  'image': 'https://static.pullandbear.net/2/photos/2021/V/0/1/p/4711/319/620/4711319620_2_1_2.jpg?t=1615814668439',\n",
       "  'product_name': 'Cazadora sahariana algodón - Al menos 50% algodón orgánico',\n",
       "  'price': '25,99 € '},\n",
       " {'url': 'https://www.pullandbear.com/es/mujer-c1010141503p502649047.html?colorId=047',\n",
       "  'image': 'https://static.pullandbear.net/2/photos/2021/V/0/1/p/4711/334/047/4711334047_2_1_2.jpg?t=1611319114062',\n",
       "  'product_name': 'Cazadora tie-dye algodón',\n",
       "  'price': '29,99 € '},\n",
       " {'url': 'https://www.pullandbear.com/es/hombre-c1010141504p502651950.html?colorId=400',\n",
       "  'image': 'https://static.pullandbear.net/2/photos/2021/V/0/2/p/4711/540/400/4711540400_2_1_2.jpg?t=1620749047654',\n",
       "  'product_name': 'Cazadora básica vaquera colores',\n",
       "  'price': '25,99 € '},\n",
       " {'url': 'https://www.pullandbear.com/es/mujer-c1010141503p502589929.html?colorId=712',\n",
       "  'image': 'https://static.pullandbear.net/2/photos/2021/V/0/1/p/4470/340/712/4470340712_2_1_2.jpg?t=1614870046791',\n",
       "  'product_name': 'Sobrecamisa vaquera pinzas',\n",
       "  'price': '29,99 € '}]"
      ]
     },
     "execution_count": 147,
     "metadata": {},
     "output_type": "execute_result"
    }
   ],
   "source": [
    "total_prod"
   ]
  },
  {
   "cell_type": "code",
   "execution_count": null,
   "id": "6534eea0",
   "metadata": {},
   "outputs": [],
   "source": [
    "### find the ID"
   ]
  },
  {
   "cell_type": "code",
   "execution_count": 94,
   "id": "defcb995",
   "metadata": {},
   "outputs": [],
   "source": [
    "driver.find_element_by_xpath('//*[@id=\"ebx-grid\"]/article[1]/a/h1').click()"
   ]
  },
  {
   "cell_type": "code",
   "execution_count": 95,
   "id": "bf84dca7",
   "metadata": {},
   "outputs": [],
   "source": [
    "description = driver.find_element_by_css_selector(\"#productCard > div > div.c-product-info > div.c-product-info--description > div.c-product-info--description-description > span\").text"
   ]
  },
  {
   "cell_type": "code",
   "execution_count": 96,
   "id": "8f5b2c20",
   "metadata": {},
   "outputs": [
    {
     "data": {
      "text/plain": [
       "'Cazadora vaquera de corte oversize en color azul, con bolsillos delanteros y laterales, cuello clásico, manga larga y cierre mediante botones.'"
      ]
     },
     "execution_count": 96,
     "metadata": {},
     "output_type": "execute_result"
    }
   ],
   "source": [
    "description"
   ]
  },
  {
   "cell_type": "code",
   "execution_count": 108,
   "id": "d220ccc5",
   "metadata": {},
   "outputs": [],
   "source": [
    "info = driver.find_elements_by_css_selector(\"#productCard > div > div.c-product-info > div.c-product-info--description > div.c-product-info--description-header > span\")"
   ]
  },
  {
   "cell_type": "code",
   "execution_count": 109,
   "id": "333467af",
   "metadata": {},
   "outputs": [
    {
     "data": {
      "text/plain": [
       "[<selenium.webdriver.remote.webelement.WebElement (session=\"a8a177686c65f2b3aeed788bd183e6f2\", element=\"0460efc5-d1b8-49c2-900d-7877ffc5469e\")>]"
      ]
     },
     "execution_count": 109,
     "metadata": {},
     "output_type": "execute_result"
    }
   ],
   "source": [
    "info"
   ]
  },
  {
   "cell_type": "code",
   "execution_count": 119,
   "id": "0a9ddf7c",
   "metadata": {},
   "outputs": [],
   "source": [
    "id_product = [a.text.replace(\"Ref. \", \"\") for a in info][0]"
   ]
  },
  {
   "cell_type": "code",
   "execution_count": 120,
   "id": "e1ba747c",
   "metadata": {},
   "outputs": [
    {
     "data": {
      "text/plain": [
       "'9714324'"
      ]
     },
     "execution_count": 120,
     "metadata": {},
     "output_type": "execute_result"
    }
   ],
   "source": [
    "id_product"
   ]
  },
  {
   "cell_type": "markdown",
   "id": "1fae735b",
   "metadata": {},
   "source": [
    "### Funtion to get the info"
   ]
  },
  {
   "cell_type": "code",
   "execution_count": 5,
   "id": "ba8a8a5b",
   "metadata": {},
   "outputs": [],
   "source": [
    "def get_info_pull(search_item):\n",
    "    driver = webdriver.Chrome(\"./chromedriver\")\n",
    "    driver.get(\"https://www.pullandbear.com/es/\")\n",
    "    sleep(5)\n",
    "    try:\n",
    "        driver.find_element_by_id(\"onetrust-accept-btn-handler\").click()\n",
    "        sleep(2)\n",
    "        driver.find_element_by_id(\"saveStore\").click()\n",
    "        sleep(1)\n",
    "        driver.find_element_by_css_selector(\"#subhome-cont > div.m-genre-selector > div:nth-child(1)\").click()\n",
    "    except: pass\n",
    "    \n",
    "    sleep(5)\n",
    "    driver.find_element_by_css_selector(\"#secondary-nav > div.menu.menu-search > button\").click()\n",
    "    sleep(2)\n",
    "    driver.find_element_by_css_selector(\"#empathy-x > header > div > div > input\").send_keys(f\"{search_item}\")\n",
    "    sleep(5)\n",
    "    url_prods = driver.find_elements_by_css_selector(\"section > section > article\")\n",
    "\n",
    "    total_prod = []\n",
    "    \n",
    "    for url in url_prods:\n",
    "        \n",
    "        dic_prod = {\"url\": [] ,\"image\": [],\"product_name\": [], \"price\": []}\n",
    "    \n",
    "        dic_prod[\"url\"] = url.find_element_by_css_selector(\"section > section > article > a\").get_attribute(\"href\")\n",
    "        \n",
    "        foto = driver.find_element_by_css_selector(\"section > section > article > a > section > img\").get_attribute(\"src\")\n",
    "        sleep(10)\n",
    "\n",
    "        # descargo la imagen de interes y la guardo en mi carpeta\n",
    "        urllib.request.urlretrieve(foto, \"luna2.png\")\n",
    "    \n",
    "        dic_prod[\"product_name\"] = url.find_element_by_css_selector(\"#ebx-grid > article > a > h1\").text\n",
    "    \n",
    "        dic_prod[\"price\"] = url.find_element_by_css_selector(\"#ebx-grid > article > a > p > strong\").text\n",
    "    \n",
    "        total_prod.append(dic_prod)\n",
    "    return total_prod"
   ]
  },
  {
   "cell_type": "code",
   "execution_count": 6,
   "id": "f4bd87e2",
   "metadata": {},
   "outputs": [
    {
     "ename": "HTTPError",
     "evalue": "HTTP Error 403: Forbidden",
     "output_type": "error",
     "traceback": [
      "\u001b[0;31m---------------------------------------------------------------------------\u001b[0m",
      "\u001b[0;31mHTTPError\u001b[0m                                 Traceback (most recent call last)",
      "\u001b[0;32m<ipython-input-6-a242bbfe1ebc>\u001b[0m in \u001b[0;36m<module>\u001b[0;34m\u001b[0m\n\u001b[0;32m----> 1\u001b[0;31m \u001b[0mget_info_pull\u001b[0m\u001b[0;34m(\u001b[0m\u001b[0;34m\"cazadora vaquera\"\u001b[0m\u001b[0;34m)\u001b[0m\u001b[0;34m\u001b[0m\u001b[0;34m\u001b[0m\u001b[0m\n\u001b[0m",
      "\u001b[0;32m<ipython-input-5-0788c9fb942c>\u001b[0m in \u001b[0;36mget_info_pull\u001b[0;34m(search_item)\u001b[0m\n\u001b[1;32m     30\u001b[0m \u001b[0;34m\u001b[0m\u001b[0m\n\u001b[1;32m     31\u001b[0m         \u001b[0;31m# descargo la imagen de interes y la guardo en mi carpeta\u001b[0m\u001b[0;34m\u001b[0m\u001b[0;34m\u001b[0m\u001b[0;34m\u001b[0m\u001b[0m\n\u001b[0;32m---> 32\u001b[0;31m         \u001b[0murllib\u001b[0m\u001b[0;34m.\u001b[0m\u001b[0mrequest\u001b[0m\u001b[0;34m.\u001b[0m\u001b[0murlretrieve\u001b[0m\u001b[0;34m(\u001b[0m\u001b[0mfoto\u001b[0m\u001b[0;34m,\u001b[0m \u001b[0;34m\"luna2.png\"\u001b[0m\u001b[0;34m)\u001b[0m\u001b[0;34m\u001b[0m\u001b[0;34m\u001b[0m\u001b[0m\n\u001b[0m\u001b[1;32m     33\u001b[0m \u001b[0;34m\u001b[0m\u001b[0m\n\u001b[1;32m     34\u001b[0m         \u001b[0mdic_prod\u001b[0m\u001b[0;34m[\u001b[0m\u001b[0;34m\"product_name\"\u001b[0m\u001b[0;34m]\u001b[0m \u001b[0;34m=\u001b[0m \u001b[0murl\u001b[0m\u001b[0;34m.\u001b[0m\u001b[0mfind_element_by_css_selector\u001b[0m\u001b[0;34m(\u001b[0m\u001b[0;34m\"#ebx-grid > article > a > h1\"\u001b[0m\u001b[0;34m)\u001b[0m\u001b[0;34m.\u001b[0m\u001b[0mtext\u001b[0m\u001b[0;34m\u001b[0m\u001b[0;34m\u001b[0m\u001b[0m\n",
      "\u001b[0;32m/usr/local/Caskroom/miniconda/base/envs/ironhack/lib/python3.8/urllib/request.py\u001b[0m in \u001b[0;36murlretrieve\u001b[0;34m(url, filename, reporthook, data)\u001b[0m\n\u001b[1;32m    245\u001b[0m     \u001b[0murl_type\u001b[0m\u001b[0;34m,\u001b[0m \u001b[0mpath\u001b[0m \u001b[0;34m=\u001b[0m \u001b[0m_splittype\u001b[0m\u001b[0;34m(\u001b[0m\u001b[0murl\u001b[0m\u001b[0;34m)\u001b[0m\u001b[0;34m\u001b[0m\u001b[0;34m\u001b[0m\u001b[0m\n\u001b[1;32m    246\u001b[0m \u001b[0;34m\u001b[0m\u001b[0m\n\u001b[0;32m--> 247\u001b[0;31m     \u001b[0;32mwith\u001b[0m \u001b[0mcontextlib\u001b[0m\u001b[0;34m.\u001b[0m\u001b[0mclosing\u001b[0m\u001b[0;34m(\u001b[0m\u001b[0murlopen\u001b[0m\u001b[0;34m(\u001b[0m\u001b[0murl\u001b[0m\u001b[0;34m,\u001b[0m \u001b[0mdata\u001b[0m\u001b[0;34m)\u001b[0m\u001b[0;34m)\u001b[0m \u001b[0;32mas\u001b[0m \u001b[0mfp\u001b[0m\u001b[0;34m:\u001b[0m\u001b[0;34m\u001b[0m\u001b[0;34m\u001b[0m\u001b[0m\n\u001b[0m\u001b[1;32m    248\u001b[0m         \u001b[0mheaders\u001b[0m \u001b[0;34m=\u001b[0m \u001b[0mfp\u001b[0m\u001b[0;34m.\u001b[0m\u001b[0minfo\u001b[0m\u001b[0;34m(\u001b[0m\u001b[0;34m)\u001b[0m\u001b[0;34m\u001b[0m\u001b[0;34m\u001b[0m\u001b[0m\n\u001b[1;32m    249\u001b[0m \u001b[0;34m\u001b[0m\u001b[0m\n",
      "\u001b[0;32m/usr/local/Caskroom/miniconda/base/envs/ironhack/lib/python3.8/urllib/request.py\u001b[0m in \u001b[0;36murlopen\u001b[0;34m(url, data, timeout, cafile, capath, cadefault, context)\u001b[0m\n\u001b[1;32m    220\u001b[0m     \u001b[0;32melse\u001b[0m\u001b[0;34m:\u001b[0m\u001b[0;34m\u001b[0m\u001b[0;34m\u001b[0m\u001b[0m\n\u001b[1;32m    221\u001b[0m         \u001b[0mopener\u001b[0m \u001b[0;34m=\u001b[0m \u001b[0m_opener\u001b[0m\u001b[0;34m\u001b[0m\u001b[0;34m\u001b[0m\u001b[0m\n\u001b[0;32m--> 222\u001b[0;31m     \u001b[0;32mreturn\u001b[0m \u001b[0mopener\u001b[0m\u001b[0;34m.\u001b[0m\u001b[0mopen\u001b[0m\u001b[0;34m(\u001b[0m\u001b[0murl\u001b[0m\u001b[0;34m,\u001b[0m \u001b[0mdata\u001b[0m\u001b[0;34m,\u001b[0m \u001b[0mtimeout\u001b[0m\u001b[0;34m)\u001b[0m\u001b[0;34m\u001b[0m\u001b[0;34m\u001b[0m\u001b[0m\n\u001b[0m\u001b[1;32m    223\u001b[0m \u001b[0;34m\u001b[0m\u001b[0m\n\u001b[1;32m    224\u001b[0m \u001b[0;32mdef\u001b[0m \u001b[0minstall_opener\u001b[0m\u001b[0;34m(\u001b[0m\u001b[0mopener\u001b[0m\u001b[0;34m)\u001b[0m\u001b[0;34m:\u001b[0m\u001b[0;34m\u001b[0m\u001b[0;34m\u001b[0m\u001b[0m\n",
      "\u001b[0;32m/usr/local/Caskroom/miniconda/base/envs/ironhack/lib/python3.8/urllib/request.py\u001b[0m in \u001b[0;36mopen\u001b[0;34m(self, fullurl, data, timeout)\u001b[0m\n\u001b[1;32m    529\u001b[0m         \u001b[0;32mfor\u001b[0m \u001b[0mprocessor\u001b[0m \u001b[0;32min\u001b[0m \u001b[0mself\u001b[0m\u001b[0;34m.\u001b[0m\u001b[0mprocess_response\u001b[0m\u001b[0;34m.\u001b[0m\u001b[0mget\u001b[0m\u001b[0;34m(\u001b[0m\u001b[0mprotocol\u001b[0m\u001b[0;34m,\u001b[0m \u001b[0;34m[\u001b[0m\u001b[0;34m]\u001b[0m\u001b[0;34m)\u001b[0m\u001b[0;34m:\u001b[0m\u001b[0;34m\u001b[0m\u001b[0;34m\u001b[0m\u001b[0m\n\u001b[1;32m    530\u001b[0m             \u001b[0mmeth\u001b[0m \u001b[0;34m=\u001b[0m \u001b[0mgetattr\u001b[0m\u001b[0;34m(\u001b[0m\u001b[0mprocessor\u001b[0m\u001b[0;34m,\u001b[0m \u001b[0mmeth_name\u001b[0m\u001b[0;34m)\u001b[0m\u001b[0;34m\u001b[0m\u001b[0;34m\u001b[0m\u001b[0m\n\u001b[0;32m--> 531\u001b[0;31m             \u001b[0mresponse\u001b[0m \u001b[0;34m=\u001b[0m \u001b[0mmeth\u001b[0m\u001b[0;34m(\u001b[0m\u001b[0mreq\u001b[0m\u001b[0;34m,\u001b[0m \u001b[0mresponse\u001b[0m\u001b[0;34m)\u001b[0m\u001b[0;34m\u001b[0m\u001b[0;34m\u001b[0m\u001b[0m\n\u001b[0m\u001b[1;32m    532\u001b[0m \u001b[0;34m\u001b[0m\u001b[0m\n\u001b[1;32m    533\u001b[0m         \u001b[0;32mreturn\u001b[0m \u001b[0mresponse\u001b[0m\u001b[0;34m\u001b[0m\u001b[0;34m\u001b[0m\u001b[0m\n",
      "\u001b[0;32m/usr/local/Caskroom/miniconda/base/envs/ironhack/lib/python3.8/urllib/request.py\u001b[0m in \u001b[0;36mhttp_response\u001b[0;34m(self, request, response)\u001b[0m\n\u001b[1;32m    638\u001b[0m         \u001b[0;31m# request was successfully received, understood, and accepted.\u001b[0m\u001b[0;34m\u001b[0m\u001b[0;34m\u001b[0m\u001b[0;34m\u001b[0m\u001b[0m\n\u001b[1;32m    639\u001b[0m         \u001b[0;32mif\u001b[0m \u001b[0;32mnot\u001b[0m \u001b[0;34m(\u001b[0m\u001b[0;36m200\u001b[0m \u001b[0;34m<=\u001b[0m \u001b[0mcode\u001b[0m \u001b[0;34m<\u001b[0m \u001b[0;36m300\u001b[0m\u001b[0;34m)\u001b[0m\u001b[0;34m:\u001b[0m\u001b[0;34m\u001b[0m\u001b[0;34m\u001b[0m\u001b[0m\n\u001b[0;32m--> 640\u001b[0;31m             response = self.parent.error(\n\u001b[0m\u001b[1;32m    641\u001b[0m                 'http', request, response, code, msg, hdrs)\n\u001b[1;32m    642\u001b[0m \u001b[0;34m\u001b[0m\u001b[0m\n",
      "\u001b[0;32m/usr/local/Caskroom/miniconda/base/envs/ironhack/lib/python3.8/urllib/request.py\u001b[0m in \u001b[0;36merror\u001b[0;34m(self, proto, *args)\u001b[0m\n\u001b[1;32m    567\u001b[0m         \u001b[0;32mif\u001b[0m \u001b[0mhttp_err\u001b[0m\u001b[0;34m:\u001b[0m\u001b[0;34m\u001b[0m\u001b[0;34m\u001b[0m\u001b[0m\n\u001b[1;32m    568\u001b[0m             \u001b[0margs\u001b[0m \u001b[0;34m=\u001b[0m \u001b[0;34m(\u001b[0m\u001b[0mdict\u001b[0m\u001b[0;34m,\u001b[0m \u001b[0;34m'default'\u001b[0m\u001b[0;34m,\u001b[0m \u001b[0;34m'http_error_default'\u001b[0m\u001b[0;34m)\u001b[0m \u001b[0;34m+\u001b[0m \u001b[0morig_args\u001b[0m\u001b[0;34m\u001b[0m\u001b[0;34m\u001b[0m\u001b[0m\n\u001b[0;32m--> 569\u001b[0;31m             \u001b[0;32mreturn\u001b[0m \u001b[0mself\u001b[0m\u001b[0;34m.\u001b[0m\u001b[0m_call_chain\u001b[0m\u001b[0;34m(\u001b[0m\u001b[0;34m*\u001b[0m\u001b[0margs\u001b[0m\u001b[0;34m)\u001b[0m\u001b[0;34m\u001b[0m\u001b[0;34m\u001b[0m\u001b[0m\n\u001b[0m\u001b[1;32m    570\u001b[0m \u001b[0;34m\u001b[0m\u001b[0m\n\u001b[1;32m    571\u001b[0m \u001b[0;31m# XXX probably also want an abstract factory that knows when it makes\u001b[0m\u001b[0;34m\u001b[0m\u001b[0;34m\u001b[0m\u001b[0;34m\u001b[0m\u001b[0m\n",
      "\u001b[0;32m/usr/local/Caskroom/miniconda/base/envs/ironhack/lib/python3.8/urllib/request.py\u001b[0m in \u001b[0;36m_call_chain\u001b[0;34m(self, chain, kind, meth_name, *args)\u001b[0m\n\u001b[1;32m    500\u001b[0m         \u001b[0;32mfor\u001b[0m \u001b[0mhandler\u001b[0m \u001b[0;32min\u001b[0m \u001b[0mhandlers\u001b[0m\u001b[0;34m:\u001b[0m\u001b[0;34m\u001b[0m\u001b[0;34m\u001b[0m\u001b[0m\n\u001b[1;32m    501\u001b[0m             \u001b[0mfunc\u001b[0m \u001b[0;34m=\u001b[0m \u001b[0mgetattr\u001b[0m\u001b[0;34m(\u001b[0m\u001b[0mhandler\u001b[0m\u001b[0;34m,\u001b[0m \u001b[0mmeth_name\u001b[0m\u001b[0;34m)\u001b[0m\u001b[0;34m\u001b[0m\u001b[0;34m\u001b[0m\u001b[0m\n\u001b[0;32m--> 502\u001b[0;31m             \u001b[0mresult\u001b[0m \u001b[0;34m=\u001b[0m \u001b[0mfunc\u001b[0m\u001b[0;34m(\u001b[0m\u001b[0;34m*\u001b[0m\u001b[0margs\u001b[0m\u001b[0;34m)\u001b[0m\u001b[0;34m\u001b[0m\u001b[0;34m\u001b[0m\u001b[0m\n\u001b[0m\u001b[1;32m    503\u001b[0m             \u001b[0;32mif\u001b[0m \u001b[0mresult\u001b[0m \u001b[0;32mis\u001b[0m \u001b[0;32mnot\u001b[0m \u001b[0;32mNone\u001b[0m\u001b[0;34m:\u001b[0m\u001b[0;34m\u001b[0m\u001b[0;34m\u001b[0m\u001b[0m\n\u001b[1;32m    504\u001b[0m                 \u001b[0;32mreturn\u001b[0m \u001b[0mresult\u001b[0m\u001b[0;34m\u001b[0m\u001b[0;34m\u001b[0m\u001b[0m\n",
      "\u001b[0;32m/usr/local/Caskroom/miniconda/base/envs/ironhack/lib/python3.8/urllib/request.py\u001b[0m in \u001b[0;36mhttp_error_default\u001b[0;34m(self, req, fp, code, msg, hdrs)\u001b[0m\n\u001b[1;32m    647\u001b[0m \u001b[0;32mclass\u001b[0m \u001b[0mHTTPDefaultErrorHandler\u001b[0m\u001b[0;34m(\u001b[0m\u001b[0mBaseHandler\u001b[0m\u001b[0;34m)\u001b[0m\u001b[0;34m:\u001b[0m\u001b[0;34m\u001b[0m\u001b[0;34m\u001b[0m\u001b[0m\n\u001b[1;32m    648\u001b[0m     \u001b[0;32mdef\u001b[0m \u001b[0mhttp_error_default\u001b[0m\u001b[0;34m(\u001b[0m\u001b[0mself\u001b[0m\u001b[0;34m,\u001b[0m \u001b[0mreq\u001b[0m\u001b[0;34m,\u001b[0m \u001b[0mfp\u001b[0m\u001b[0;34m,\u001b[0m \u001b[0mcode\u001b[0m\u001b[0;34m,\u001b[0m \u001b[0mmsg\u001b[0m\u001b[0;34m,\u001b[0m \u001b[0mhdrs\u001b[0m\u001b[0;34m)\u001b[0m\u001b[0;34m:\u001b[0m\u001b[0;34m\u001b[0m\u001b[0;34m\u001b[0m\u001b[0m\n\u001b[0;32m--> 649\u001b[0;31m         \u001b[0;32mraise\u001b[0m \u001b[0mHTTPError\u001b[0m\u001b[0;34m(\u001b[0m\u001b[0mreq\u001b[0m\u001b[0;34m.\u001b[0m\u001b[0mfull_url\u001b[0m\u001b[0;34m,\u001b[0m \u001b[0mcode\u001b[0m\u001b[0;34m,\u001b[0m \u001b[0mmsg\u001b[0m\u001b[0;34m,\u001b[0m \u001b[0mhdrs\u001b[0m\u001b[0;34m,\u001b[0m \u001b[0mfp\u001b[0m\u001b[0;34m)\u001b[0m\u001b[0;34m\u001b[0m\u001b[0;34m\u001b[0m\u001b[0m\n\u001b[0m\u001b[1;32m    650\u001b[0m \u001b[0;34m\u001b[0m\u001b[0m\n\u001b[1;32m    651\u001b[0m \u001b[0;32mclass\u001b[0m \u001b[0mHTTPRedirectHandler\u001b[0m\u001b[0;34m(\u001b[0m\u001b[0mBaseHandler\u001b[0m\u001b[0;34m)\u001b[0m\u001b[0;34m:\u001b[0m\u001b[0;34m\u001b[0m\u001b[0;34m\u001b[0m\u001b[0m\n",
      "\u001b[0;31mHTTPError\u001b[0m: HTTP Error 403: Forbidden"
     ]
    }
   ],
   "source": [
    "get_info_pull(\"cazadora vaquera\")"
   ]
  },
  {
   "cell_type": "code",
   "execution_count": 39,
   "id": "0deaf487",
   "metadata": {},
   "outputs": [],
   "source": [
    "def get_id_pull(search_item):\n",
    "    driver = webdriver.Chrome(\"./chromedriver\")\n",
    "    driver.get(\"https://www.pullandbear.com/es/\")\n",
    "    sleep(5)\n",
    "    try:\n",
    "        driver.find_element_by_id(\"onetrust-accept-btn-handler\").click()\n",
    "        sleep(2)\n",
    "        driver.find_element_by_id(\"saveStore\").click()\n",
    "        sleep(1)\n",
    "        driver.find_element_by_css_selector(\"#subhome-cont > div.m-genre-selector > div:nth-child(1)\").click()\n",
    "    \n",
    "    except: pass \n",
    "    \n",
    "    sleep(5)\n",
    "    driver.find_element_by_css_selector(\"#secondary-nav > div.menu.menu-search > button\").click()\n",
    "    sleep(2)\n",
    "    driver.find_element_by_css_selector(\"#empathy-x > header > div > div > input\").send_keys(f\"{search_item}\")\n",
    "    sleep(5)\n",
    "    driver.find_element_by_css_selector(\"#ebx-grid > article > a > h1\").click()\n",
    "    description = driver.find_element_by_css_selector(\"#productCard > div > div.c-product-info > div.c-product-info--description > div.c-product-info--description-description > span\").text\n",
    "    print(description)\n",
    "\n",
    "    info = driver.find_elements_by_css_selector(\"#productCard > div > div.c-product-info > div.c-product-info--description > div.c-product-info--description-header > span\")\n",
    "    id_product = [a.text.replace(\"Ref. \", \"\") for a in info][0]\n",
    "    return id_product"
   ]
  },
  {
   "cell_type": "code",
   "execution_count": 40,
   "id": "6c337bab",
   "metadata": {},
   "outputs": [
    {
     "name": "stdout",
     "output_type": "stream",
     "text": [
      "Cazadora vaquera de corte oversize en color azul, con bolsillos delanteros y laterales, cuello clásico, manga larga y cierre mediante botones.\n"
     ]
    },
    {
     "data": {
      "text/plain": [
       "'9714324'"
      ]
     },
     "execution_count": 40,
     "metadata": {},
     "output_type": "execute_result"
    }
   ],
   "source": [
    "get_id_pull(\"cazadora vaquera\")"
   ]
  },
  {
   "cell_type": "code",
   "execution_count": 17,
   "id": "032e2468",
   "metadata": {},
   "outputs": [],
   "source": [
    "import urllib\n",
    "from selenium import webdriver\n",
    "def get(search_item):\n",
    "    driver = webdriver.Chrome(\"./chromedriver\")\n",
    "    driver.get('https://www.pullandbear.com/es/')\n",
    "    sleep(5)\n",
    "    try:\n",
    "        driver.find_element_by_id(\"onetrust-accept-btn-handler\").click()\n",
    "        sleep(2)\n",
    "        driver.find_element_by_id(\"saveStore\").click()\n",
    "        sleep(1)\n",
    "        driver.find_element_by_css_selector(\"#subhome-cont > div.m-genre-selector > div:nth-child(1)\").click()\n",
    "    except: pass\n",
    "    \n",
    "    sleep(5)\n",
    "    driver.find_element_by_css_selector(\"#secondary-nav > div.menu.menu-search > button\").click()\n",
    "    sleep(2)\n",
    "    driver.find_element_by_css_selector(\"#empathy-x > header > div > div > input\").send_keys(f\"{search_item}\")\n",
    "    sleep(5)\n",
    "    url_prods = driver.find_elements_by_css_selector(\"section > section > article\")\n",
    "\n",
    "# get the image source\n",
    "    img = driver.find_element_by_css_selector('#ebx-grid > article:nth-child(1) > a > section > img')\n",
    "    src = img.get_attribute('src')\n",
    "\n",
    "# download the image\n",
    "    try:\n",
    "        urllib.request.urlretrieve(src, \"captcha.png\")\n",
    "    except: pass\n",
    "\n",
    "    driver.close()\n",
    "    return img"
   ]
  },
  {
   "cell_type": "code",
   "execution_count": 18,
   "id": "31ebc91a",
   "metadata": {},
   "outputs": [
    {
     "data": {
      "text/plain": [
       "<selenium.webdriver.remote.webelement.WebElement (session=\"db258aa60678aca88e28bcedaa0c416b\", element=\"3472b93a-d927-419d-879f-ba59bc82bfdd\")>"
      ]
     },
     "execution_count": 18,
     "metadata": {},
     "output_type": "execute_result"
    }
   ],
   "source": [
    "get(\"cazadora vaquera\")"
   ]
  },
  {
   "cell_type": "code",
   "execution_count": null,
   "id": "a51946fc",
   "metadata": {},
   "outputs": [],
   "source": []
  }
 ],
 "metadata": {
  "kernelspec": {
   "display_name": "ironhack",
   "language": "python",
   "name": "ironhack"
  },
  "language_info": {
   "codemirror_mode": {
    "name": "ipython",
    "version": 3
   },
   "file_extension": ".py",
   "mimetype": "text/x-python",
   "name": "python",
   "nbconvert_exporter": "python",
   "pygments_lexer": "ipython3",
   "version": "3.8.8"
  }
 },
 "nbformat": 4,
 "nbformat_minor": 5
}
