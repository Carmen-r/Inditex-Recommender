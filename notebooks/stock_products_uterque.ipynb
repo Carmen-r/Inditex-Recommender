{
 "cells": [
  {
   "cell_type": "code",
   "execution_count": 1,
   "id": "2ceb9dc2",
   "metadata": {},
   "outputs": [],
   "source": [
    "import requests"
   ]
  },
  {
   "cell_type": "code",
   "execution_count": 3,
   "id": "d2769998",
   "metadata": {},
   "outputs": [],
   "source": [
    "product = 1862511\n",
    "\n",
    "store = {\n",
    "    \"physicalStoreId\":74009650\n",
    "}\n",
    "\n",
    "\n",
    "stock = \"https://itxrest.inditex.com/LOMOServiciosRESTCommerce-ws/common/1/stock/campaign/V2021/product/part-number/{}\"\n",
    "headers ={\"User-Agent\":\"Mozilla/5.0 (Macintosh; Intel Mac OS X 11_2_2) AppleWebKit/537.36 (KHTML, like Gecko) Chrome/89.0.4389.114 Safari/537.36\"}\n",
    "res = requests.get(stock.format(f\"0{product}\"), params=store, headers=headers).json()"
   ]
  },
  {
   "cell_type": "code",
   "execution_count": 4,
   "id": "9addf823",
   "metadata": {},
   "outputs": [
    {
     "data": {
      "text/plain": [
       "{'dataType': 'error', 'code': 7}"
      ]
     },
     "execution_count": 4,
     "metadata": {},
     "output_type": "execute_result"
    }
   ],
   "source": [
    "res"
   ]
  },
  {
   "cell_type": "code",
   "execution_count": null,
   "id": "b093c2bc",
   "metadata": {},
   "outputs": [],
   "source": []
  }
 ],
 "metadata": {
  "kernelspec": {
   "display_name": "ironhack",
   "language": "python",
   "name": "ironhack"
  },
  "language_info": {
   "codemirror_mode": {
    "name": "ipython",
    "version": 3
   },
   "file_extension": ".py",
   "mimetype": "text/x-python",
   "name": "python",
   "nbconvert_exporter": "python",
   "pygments_lexer": "ipython3",
   "version": "3.8.8"
  }
 },
 "nbformat": 4,
 "nbformat_minor": 5
}
