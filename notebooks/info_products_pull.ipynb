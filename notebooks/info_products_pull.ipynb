{
 "cells": [
  {
   "cell_type": "code",
   "execution_count": 1,
   "id": "d77706b7",
   "metadata": {},
   "outputs": [],
   "source": [
    "from selenium import webdriver\n",
    "from time import sleep\n",
    "import os\n",
    "import re"
   ]
  },
  {
   "cell_type": "markdown",
   "id": "1fae735b",
   "metadata": {},
   "source": [
    "### Funtion to get the info"
   ]
  },
  {
   "cell_type": "code",
   "execution_count": 2,
   "id": "ba8a8a5b",
   "metadata": {},
   "outputs": [],
   "source": [
    "def get_info_pull(search_item):\n",
    "    driver = webdriver.Chrome(\"./chromedriver\")\n",
    "    driver.get(\"https://www.pullandbear.com/es/\")\n",
    "    sleep(5)\n",
    "    try:\n",
    "        driver.find_element_by_id(\"onetrust-accept-btn-handler\").click()\n",
    "        sleep(2)\n",
    "        driver.find_element_by_id(\"saveStore\").click()\n",
    "        sleep(1)\n",
    "        driver.find_element_by_css_selector(\"#subhome-cont > div.m-genre-selector > div:nth-child(1)\").click()\n",
    "        sleep(5)\n",
    "        \n",
    "    except: pass\n",
    "    \n",
    "    \n",
    "    driver.find_element_by_css_selector(\"#secondary-nav > div.menu.menu-search > button\").click()\n",
    "    sleep(2)\n",
    "    driver.find_element_by_css_selector(\"#empathy-x > header > div > div > input\").send_keys(f\"{search_item}\")\n",
    "    sleep(5)\n",
    "    url_prods = driver.find_elements_by_css_selector(\"section > section > article\")\n",
    "\n",
    "    total_prod = []\n",
    "    \n",
    "    for url in url_prods:\n",
    "        \n",
    "        dic_prod = {\"url\": [] ,\"image\": [],\"product_name\": [], \"price\": []}\n",
    "    \n",
    "        dic_prod[\"url\"] = url.find_element_by_css_selector(\"section > section > article > a\").get_attribute(\"href\")\n",
    "         \n",
    "        dic_prod[\"image\"] = url.find_element_by_css_selector(\"section > section > article > a > section > img\").get_attribute(\"src\")\n",
    "    \n",
    "        dic_prod[\"product_name\"] = url.find_element_by_css_selector(\"#ebx-grid > article > a > h1\").text\n",
    "    \n",
    "        dic_prod[\"price\"] = url.find_element_by_css_selector(\"#ebx-grid > article > a > p > strong\").text\n",
    "    \n",
    "        total_prod.append(dic_prod)\n",
    "        \n",
    "    driver.quit()\n",
    "    return total_prod\n"
   ]
  },
  {
   "cell_type": "code",
   "execution_count": 3,
   "id": "f4bd87e2",
   "metadata": {},
   "outputs": [],
   "source": [
    "prod = get_info_pull(\"blusa amarilla\")"
   ]
  },
  {
   "cell_type": "code",
   "execution_count": 12,
   "id": "2df62dc0",
   "metadata": {},
   "outputs": [
    {
     "data": {
      "text/plain": [
       "[{'url': 'https://www.pullandbear.com/es/mujer-c1010141503p502551014.html?colorId=300',\n",
       "  'image': 'https://static.pullandbear.net/2/photos/2021/V/0/1/p/4470/305/300/4470305300_2_1_2.jpg?t=1614276867865',\n",
       "  'product_name': 'Sobrecamisa oversize cuadros amarillos',\n",
       "  'price': '28,79 € '},\n",
       " {'url': 'https://www.pullandbear.com/es/hombre-c1010141504p502713585.html?colorId=301',\n",
       "  'image': 'https://static.pullandbear.net/2/photos/2021/V/0/2/p/4470/522/301/4470522301_2_1_2.jpg?t=1618917552223',\n",
       "  'product_name': 'Camisa tie-dye mancha amarilla',\n",
       "  'price': '19,99 € '},\n",
       " {'url': 'https://www.pullandbear.com/es/mujer-c1010141503p502751055.html?colorId=300',\n",
       "  'image': 'https://static.pullandbear.net/2/photos/2021/V/0/1/p/4470/451/300/4470451300_2_1_2.jpg?t=1619697826831',\n",
       "  'product_name': 'Chaleco cuadros damero',\n",
       "  'price': '22,99 € '}]"
      ]
     },
     "execution_count": 12,
     "metadata": {},
     "output_type": "execute_result"
    }
   ],
   "source": [
    "prod"
   ]
  },
  {
   "cell_type": "markdown",
   "id": "8b00c344",
   "metadata": {},
   "source": [
    "### Funtion to get the id"
   ]
  },
  {
   "cell_type": "code",
   "execution_count": 7,
   "id": "0deaf487",
   "metadata": {},
   "outputs": [],
   "source": [
    "def get_id_pull(search_item):\n",
    "    driver = webdriver.Chrome(\"./chromedriver\")\n",
    "    driver.get(\"https://www.pullandbear.com/es/\")\n",
    "    sleep(5)\n",
    "    try:\n",
    "        driver.find_element_by_id(\"onetrust-accept-btn-handler\").click()\n",
    "        sleep(2)\n",
    "        driver.find_element_by_id(\"saveStore\").click()\n",
    "        sleep(1)\n",
    "        driver.find_element_by_css_selector(\"#subhome-cont > div.m-genre-selector > div:nth-child(1)\").click()\n",
    "    \n",
    "    except: pass \n",
    "    \n",
    "    sleep(5)\n",
    "    driver.find_element_by_css_selector(\"#secondary-nav > div.menu.menu-search > button\").click()\n",
    "    sleep(2)\n",
    "    driver.find_element_by_css_selector(\"#empathy-x > header > div > div > input\").send_keys(f\"{search_item}\")\n",
    "    sleep(5)\n",
    "    driver.find_element_by_css_selector(\"#ebx-grid > article > a > h1\").click()\n",
    "    description = driver.find_element_by_css_selector(\"#productCard > div > div.c-product-info > div.c-product-info--description > div.c-product-info--description-description > span\").text\n",
    "    print(description)\n",
    "    \n",
    "\n",
    "    ids_prod = driver.find_elements_by_css_selector(\"#productCard > div > div.c-product-info > div.c-product-info--description > div.c-product-info--description-header > span\")\n",
    "    id_ = driver.find_elements_by_css_selector(\"#productCard > div > div.c-product-info > div.c-product-info--header > div.product-card-color-selector.desktop-inline > div.product-card-color-selector--popup > div > div.product-card-color-selector--popup-colors-color.selected > img\")\n",
    "    \n",
    "    for my_href in id_:\n",
    "            d = (my_href.get_attribute(\"data-color-id\"))\n",
    "\n",
    "    type(d)\n",
    "    id_prod = [a.text.replace(\"Ref. \", \"\") for a in ids_prod][0]\n",
    "    id_prod =[id_prod + d]\n",
    "    driver.quit()\n",
    "    return id_prod"
   ]
  },
  {
   "cell_type": "code",
   "execution_count": 8,
   "id": "6c337bab",
   "metadata": {},
   "outputs": [
    {
     "name": "stdout",
     "output_type": "stream",
     "text": [
      "Sobrecamisa oversize de cuadros amarillos con bolsillos delanteros, cierre de botones y de manga larga.\n"
     ]
    },
    {
     "data": {
      "text/plain": [
       "['4470305300']"
      ]
     },
     "execution_count": 8,
     "metadata": {},
     "output_type": "execute_result"
    }
   ],
   "source": [
    "get_id_pull(\"blusa amarilla\")"
   ]
  },
  {
   "cell_type": "markdown",
   "id": "0d78aaa6",
   "metadata": {},
   "source": [
    "### Funtion to get the `id` and `info`"
   ]
  },
  {
   "cell_type": "code",
   "execution_count": 9,
   "id": "06dc6088",
   "metadata": {},
   "outputs": [],
   "source": [
    "def get_id_info(search_item):\n",
    "    products = get_info_pull(search_item)\n",
    "    for a,product in enumerate(products):\n",
    "        \n",
    "        product_name = product[\"product_name\"]\n",
    "        \n",
    "        name_ids = get_id_pull(product_name)\n",
    "     \n",
    "        products[a][\"id_prod\"] = name_ids\n",
    "    \n",
    "    return products"
   ]
  },
  {
   "cell_type": "code",
   "execution_count": 10,
   "id": "0a0284fd",
   "metadata": {},
   "outputs": [
    {
     "name": "stdout",
     "output_type": "stream",
     "text": [
      "Sobrecamisa oversize de cuadros amarillos con bolsillos delanteros, cierre de botones y de manga larga.\n",
      "Camisa tie-dye con detalles de manchas en tonos amarillos y de manga corta, con cierre de botones delanteros y en viscosa.\n",
      "Chaleco de cuadros damero con cuello camisero, mangas sisa, bolsillos delanteros y cierre de botones.\n"
     ]
    }
   ],
   "source": [
    "id_prod = get_id_info(\"busa amarilla\")"
   ]
  },
  {
   "cell_type": "code",
   "execution_count": 25,
   "id": "264f94d3",
   "metadata": {},
   "outputs": [
    {
     "data": {
      "text/plain": [
       "[{'url': 'https://www.pullandbear.com/es/mujer-c1010141503p502551014.html?colorId=300',\n",
       "  'image': 'https://static.pullandbear.net/2/photos/2021/V/0/1/p/4470/305/300/4470305300_2_1_2.jpg?t=1614276867865',\n",
       "  'product_name': 'Sobrecamisa oversize cuadros amarillos',\n",
       "  'price': '28,79 € ',\n",
       "  'id_prod': ['4470305300']},\n",
       " {'url': 'https://www.pullandbear.com/es/hombre-c1010141504p502713585.html?colorId=301',\n",
       "  'image': 'https://static.pullandbear.net/2/photos/2021/V/0/2/p/4470/522/301/4470522301_2_1_2.jpg?t=1618917552223',\n",
       "  'product_name': 'Camisa tie-dye mancha amarilla',\n",
       "  'price': '19,99 € ',\n",
       "  'id_prod': ['4470522301']},\n",
       " {'url': 'https://www.pullandbear.com/es/mujer-c1010141503p502751055.html?colorId=300',\n",
       "  'image': 'https://static.pullandbear.net/2/photos/2021/V/0/1/p/4470/451/300/4470451300_2_1_2.jpg?t=1619697826831',\n",
       "  'product_name': 'Chaleco cuadros damero',\n",
       "  'price': '22,99 € ',\n",
       "  'id_prod': ['4470451300']}]"
      ]
     },
     "execution_count": 25,
     "metadata": {},
     "output_type": "execute_result"
    }
   ],
   "source": [
    "id_prod"
   ]
  },
  {
   "cell_type": "code",
   "execution_count": null,
   "id": "ad6441eb",
   "metadata": {},
   "outputs": [],
   "source": []
  }
 ],
 "metadata": {
  "kernelspec": {
   "display_name": "ironhack",
   "language": "python",
   "name": "ironhack"
  },
  "language_info": {
   "codemirror_mode": {
    "name": "ipython",
    "version": 3
   },
   "file_extension": ".py",
   "mimetype": "text/x-python",
   "name": "python",
   "nbconvert_exporter": "python",
   "pygments_lexer": "ipython3",
   "version": "3.8.8"
  }
 },
 "nbformat": 4,
 "nbformat_minor": 5
}
