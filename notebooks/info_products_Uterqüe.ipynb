{
 "cells": [
  {
   "cell_type": "code",
   "execution_count": 13,
   "id": "499c098f",
   "metadata": {},
   "outputs": [],
   "source": [
    "from selenium import webdriver\n",
    "from time import sleep\n",
    "import os\n",
    "import re"
   ]
  },
  {
   "cell_type": "markdown",
   "id": "1b38fd26",
   "metadata": {},
   "source": [
    "### Funtion `info`"
   ]
  },
  {
   "cell_type": "code",
   "execution_count": 14,
   "id": "e11ab90e",
   "metadata": {},
   "outputs": [],
   "source": [
    "def get_info_uterque(search_item):\n",
    "\n",
    "    driver = webdriver.Chrome(\"./chromedriver\")\n",
    "\n",
    "    driver.get(\"https://www.uterque.com/es/\")\n",
    "\n",
    "    sleep(2)\n",
    "\n",
    "    driver.find_element_by_id(\"onetrust-accept-btn-handler\").click()\n",
    "    sleep(2)\n",
    "\n",
    "    driver.find_element_by_css_selector(\"#ngdialog1 > div.ngdialog-content > itx-store-confirmation > footer > div > div > button:nth-child(1)\").click()\n",
    "    sleep(2)\n",
    "    driver.find_element_by_css_selector(\"#site-menu > itx-toolbar > ul > li:nth-child(1) > span\").click()\n",
    "\n",
    "    driver.find_element_by_css_selector(\"#empathy-x > header > div > div > input.ebx-search-box__input.ebx-search-box__input-query\").send_keys(f\"{search_item}\")\n",
    "    sleep(2)\n",
    "    url_prod = driver.find_elements_by_xpath('//*[@id=\"ebx-grid\"]/article')\n",
    "\n",
    "\n",
    "\n",
    "    total_prod = []\n",
    "    for url in url_prod:\n",
    "    \n",
    "        dic_prod = {\"url\": [] ,\"image\": [],\"product_name\": [], \"price\": []}\n",
    "    \n",
    "        dic_prod[\"url\"] = url.find_element_by_css_selector(\"section > article > a\").get_attribute(\"href\")\n",
    "    \n",
    "        dic_prod[\"image\"] = url.find_element_by_css_selector(\"section > article > a > section > img\").get_attribute(\"src\")\n",
    "    \n",
    "        dic_prod[\"product_name\"] = url.find_element_by_css_selector(\"#ebx-grid > article > a > h1\").text\n",
    "    \n",
    "        dic_prod[\"price\"] = url.find_element_by_css_selector(\"#ebx-grid > article > a > p > strong\").text\n",
    "    \n",
    "        total_prod.append(dic_prod)\n",
    "        \n",
    "    return total_prod"
   ]
  },
  {
   "cell_type": "code",
   "execution_count": 3,
   "id": "1e3fee77",
   "metadata": {},
   "outputs": [
    {
     "data": {
      "text/plain": [
       "{'url': 'https://www.uterque.com/es/null-c0p9132159.html',\n",
       " 'image': 'https://static.uterque.net/7/photos/2021/V/0/1/p/0817/651/800/0817651800_1_1_3.jpg?%20%20%20%20t=1613386621830',\n",
       " 'product_name': 'Cazadora denim',\n",
       " 'price': '159,00 € '}"
      ]
     },
     "execution_count": 3,
     "metadata": {},
     "output_type": "execute_result"
    }
   ],
   "source": [
    "get_info_uterque(\"cazadora vaquera\")[0]"
   ]
  },
  {
   "cell_type": "markdown",
   "id": "1537ee08",
   "metadata": {},
   "source": [
    "### Funtion `id`"
   ]
  },
  {
   "cell_type": "code",
   "execution_count": 15,
   "id": "cf03c15e",
   "metadata": {},
   "outputs": [],
   "source": [
    "def get_id_uterque(search_item):\n",
    "\n",
    "    driver = webdriver.Chrome(\"./chromedriver\")\n",
    "\n",
    "    driver.get(\"https://www.uterque.com/es/\")\n",
    "\n",
    "    sleep(2)\n",
    "\n",
    "    driver.find_element_by_id(\"onetrust-accept-btn-handler\").click()\n",
    "    sleep(2)\n",
    "\n",
    "    driver.find_element_by_css_selector(\"#ngdialog1 > div.ngdialog-content > itx-store-confirmation > footer > div > div > button:nth-child(1)\").click()\n",
    "    sleep(2)\n",
    "    driver.find_element_by_css_selector(\"#site-menu > itx-toolbar > ul > li:nth-child(1) > span\").click()\n",
    "\n",
    "    driver.find_element_by_css_selector(\"#empathy-x > header > div > div > input.ebx-search-box__input.ebx-search-box__input-query\").send_keys(f\"{search_item}\")\n",
    "    sleep(2)\n",
    "\n",
    "    driver.find_element_by_css_selector(\"#ebx-grid > article > a > h1\").click()\n",
    "\n",
    "    sleep(2)\n",
    "\n",
    "    driver.find_element_by_xpath('/html/body/div[2]/itx-product-slider/div/itx-product/section/div[1]/div[4]/div/div[2]/div[3]/h4[1]').click()\n",
    "\n",
    "    id_prod = driver.find_element_by_css_selector(\"body > div.ItxProductPage.general > itx-product-slider > div > itx-product > section > div.content.col-md-12 > div.product-details.col-md-4.col-lg-3 > div > div.product-details-column.col-md-10.col-lg-9 > div.extra-info > div.info-container.open > span > span\").text\n",
    "    #quitar \"/\"\n",
    "    return id_prod"
   ]
  },
  {
   "cell_type": "code",
   "execution_count": 29,
   "id": "11edb006",
   "metadata": {},
   "outputs": [
    {
     "data": {
      "text/plain": [
       "'0817/651'"
      ]
     },
     "execution_count": 29,
     "metadata": {},
     "output_type": "execute_result"
    }
   ],
   "source": [
    "get_id_uterque(\"chaqueta vaquera\")"
   ]
  },
  {
   "cell_type": "markdown",
   "id": "3de1fcf5",
   "metadata": {},
   "source": [
    "### Funtion to get `info` and `id`"
   ]
  },
  {
   "cell_type": "code",
   "execution_count": 16,
   "id": "550136a4",
   "metadata": {},
   "outputs": [],
   "source": [
    "def get_id_info(search_item):\n",
    "    products = get_info_uterque(search_item)\n",
    "    \n",
    "    try:\n",
    "        for a, product in enumerate(products):\n",
    "        \n",
    "            product_name = product[\"product_name\"]\n",
    "        \n",
    "            name_ids = get_id_uterque(product_name)\n",
    "     \n",
    "            products[a][\"id_prod\"] = name_ids\n",
    "    except: pass\n",
    "    return products"
   ]
  },
  {
   "cell_type": "code",
   "execution_count": 17,
   "id": "c99fd057",
   "metadata": {},
   "outputs": [],
   "source": [
    "id_prod = get_id_info(\"blusa amarilla\")"
   ]
  },
  {
   "cell_type": "code",
   "execution_count": 10,
   "id": "41012ca0",
   "metadata": {},
   "outputs": [
    {
     "data": {
      "text/plain": [
       "[{'url': 'https://www.uterque.com/es/null-c0p9145008.html',\n",
       "  'image': 'https://static.uterque.net/7/photos/2021/V/0/1/p/0621/255/305/0621255305_1_1_3.jpg?%20%20%20%20t=1613385814099',\n",
       "  'product_name': 'Camisa raya mostaza',\n",
       "  'price': '79,00 € ',\n",
       "  'id_prod': '0621/255'}]"
      ]
     },
     "execution_count": 10,
     "metadata": {},
     "output_type": "execute_result"
    }
   ],
   "source": [
    "id_prod"
   ]
  },
  {
   "cell_type": "code",
   "execution_count": null,
   "id": "972692a1",
   "metadata": {},
   "outputs": [],
   "source": []
  }
 ],
 "metadata": {
  "kernelspec": {
   "display_name": "ironhack",
   "language": "python",
   "name": "ironhack"
  },
  "language_info": {
   "codemirror_mode": {
    "name": "ipython",
    "version": 3
   },
   "file_extension": ".py",
   "mimetype": "text/x-python",
   "name": "python",
   "nbconvert_exporter": "python",
   "pygments_lexer": "ipython3",
   "version": "3.8.8"
  }
 },
 "nbformat": 4,
 "nbformat_minor": 5
}
